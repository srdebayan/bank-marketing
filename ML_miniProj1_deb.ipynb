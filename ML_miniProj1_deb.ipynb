{
  "nbformat": 4,
  "nbformat_minor": 0,
  "metadata": {
    "colab": {
      "provenance": [],
      "authorship_tag": "ABX9TyM0qBoKpnSHTkbd45srXHoM",
      "include_colab_link": true
    },
    "kernelspec": {
      "name": "python3",
      "display_name": "Python 3"
    },
    "language_info": {
      "name": "python"
    }
  },
  "cells": [
    {
      "cell_type": "markdown",
      "metadata": {
        "id": "view-in-github",
        "colab_type": "text"
      },
      "source": [
        "<a href=\"https://colab.research.google.com/github/srdebayan/bank-marketing/blob/main/ML_miniProj1_deb.ipynb\" target=\"_parent\"><img src=\"https://colab.research.google.com/assets/colab-badge.svg\" alt=\"Open In Colab\"/></a>"
      ]
    },
    {
      "cell_type": "markdown",
      "source": [
        "## The workbook is aimed to analyze, process and make prediction from a bank phone marketing dataset. The work uses sequential neural network to predict which calls will be converted into positive sales."
      ],
      "metadata": {
        "id": "Pm50c29tD4MW"
      }
    },
    {
      "cell_type": "code",
      "execution_count": null,
      "metadata": {
        "id": "IyuwOCAHCYu5"
      },
      "outputs": [],
      "source": [
        "import pandas as pd\n",
        "import numpy as np\n",
        "import seaborn as sns\n",
        "\n",
        "import itertools\n",
        "\n",
        "from keras.models import Sequential\n",
        "from keras.layers import Dense, Flatten, Conv2D\n",
        "from keras.optimizers import Adam\n",
        "\n",
        "from tensorflow.keras.utils import to_categorical\n",
        "from keras import optimizers\n",
        "from sklearn.preprocessing import OneHotEncoder, StandardScaler, LabelEncoder\n",
        "\n",
        "from keras.datasets import mnist\n",
        "\n",
        "import matplotlib.pyplot as plt\n",
        "%matplotlib inline\n",
        "\n",
        "from sklearn.model_selection import train_test_split\n",
        "from sklearn.metrics import confusion_matrix\n",
        "\n",
        "import tensorflow as tf\n",
        "import random as rn\n",
        "\n",
        "import os\n",
        "#our dataset file is stored in this location\n",
        "url = 'https://raw.githubusercontent.com/srdebayan/bank-marketing/main/bank-additional-full.csv'\n",
        "df1 = pd.read_csv(url,sep = ';')\n",
        "# Dataset is now stored in a Pandas Dataframe"
      ]
    },
    {
      "cell_type": "markdown",
      "source": [
        "Checking the dataset by loading it"
      ],
      "metadata": {
        "id": "aIcZ2d9lD6by"
      }
    },
    {
      "cell_type": "code",
      "source": [
        "df1.head()\n"
      ],
      "metadata": {
        "colab": {
          "base_uri": "https://localhost:8080/",
          "height": 300
        },
        "id": "XXBd3yF2hUms",
        "outputId": "5f28ca8c-c328-4b2f-d5a6-8ab7af04488f"
      },
      "execution_count": null,
      "outputs": [
        {
          "output_type": "execute_result",
          "data": {
            "text/plain": [
              "   age        job  marital    education  default housing loan    contact  \\\n",
              "0   56  housemaid  married     basic.4y       no      no   no  telephone   \n",
              "1   57   services  married  high.school  unknown      no   no  telephone   \n",
              "2   37   services  married  high.school       no     yes   no  telephone   \n",
              "3   40     admin.  married     basic.6y       no      no   no  telephone   \n",
              "4   56   services  married  high.school       no      no  yes  telephone   \n",
              "\n",
              "  month day_of_week  ...  campaign  pdays  previous     poutcome emp.var.rate  \\\n",
              "0   may         mon  ...         1    999         0  nonexistent          1.1   \n",
              "1   may         mon  ...         1    999         0  nonexistent          1.1   \n",
              "2   may         mon  ...         1    999         0  nonexistent          1.1   \n",
              "3   may         mon  ...         1    999         0  nonexistent          1.1   \n",
              "4   may         mon  ...         1    999         0  nonexistent          1.1   \n",
              "\n",
              "   cons.price.idx  cons.conf.idx  euribor3m  nr.employed   y  \n",
              "0          93.994          -36.4      4.857       5191.0  no  \n",
              "1          93.994          -36.4      4.857       5191.0  no  \n",
              "2          93.994          -36.4      4.857       5191.0  no  \n",
              "3          93.994          -36.4      4.857       5191.0  no  \n",
              "4          93.994          -36.4      4.857       5191.0  no  \n",
              "\n",
              "[5 rows x 21 columns]"
            ],
            "text/html": [
              "\n",
              "  <div id=\"df-947b0e4d-5cf8-45f2-8a5b-1d093d0552e6\">\n",
              "    <div class=\"colab-df-container\">\n",
              "      <div>\n",
              "<style scoped>\n",
              "    .dataframe tbody tr th:only-of-type {\n",
              "        vertical-align: middle;\n",
              "    }\n",
              "\n",
              "    .dataframe tbody tr th {\n",
              "        vertical-align: top;\n",
              "    }\n",
              "\n",
              "    .dataframe thead th {\n",
              "        text-align: right;\n",
              "    }\n",
              "</style>\n",
              "<table border=\"1\" class=\"dataframe\">\n",
              "  <thead>\n",
              "    <tr style=\"text-align: right;\">\n",
              "      <th></th>\n",
              "      <th>age</th>\n",
              "      <th>job</th>\n",
              "      <th>marital</th>\n",
              "      <th>education</th>\n",
              "      <th>default</th>\n",
              "      <th>housing</th>\n",
              "      <th>loan</th>\n",
              "      <th>contact</th>\n",
              "      <th>month</th>\n",
              "      <th>day_of_week</th>\n",
              "      <th>...</th>\n",
              "      <th>campaign</th>\n",
              "      <th>pdays</th>\n",
              "      <th>previous</th>\n",
              "      <th>poutcome</th>\n",
              "      <th>emp.var.rate</th>\n",
              "      <th>cons.price.idx</th>\n",
              "      <th>cons.conf.idx</th>\n",
              "      <th>euribor3m</th>\n",
              "      <th>nr.employed</th>\n",
              "      <th>y</th>\n",
              "    </tr>\n",
              "  </thead>\n",
              "  <tbody>\n",
              "    <tr>\n",
              "      <th>0</th>\n",
              "      <td>56</td>\n",
              "      <td>housemaid</td>\n",
              "      <td>married</td>\n",
              "      <td>basic.4y</td>\n",
              "      <td>no</td>\n",
              "      <td>no</td>\n",
              "      <td>no</td>\n",
              "      <td>telephone</td>\n",
              "      <td>may</td>\n",
              "      <td>mon</td>\n",
              "      <td>...</td>\n",
              "      <td>1</td>\n",
              "      <td>999</td>\n",
              "      <td>0</td>\n",
              "      <td>nonexistent</td>\n",
              "      <td>1.1</td>\n",
              "      <td>93.994</td>\n",
              "      <td>-36.4</td>\n",
              "      <td>4.857</td>\n",
              "      <td>5191.0</td>\n",
              "      <td>no</td>\n",
              "    </tr>\n",
              "    <tr>\n",
              "      <th>1</th>\n",
              "      <td>57</td>\n",
              "      <td>services</td>\n",
              "      <td>married</td>\n",
              "      <td>high.school</td>\n",
              "      <td>unknown</td>\n",
              "      <td>no</td>\n",
              "      <td>no</td>\n",
              "      <td>telephone</td>\n",
              "      <td>may</td>\n",
              "      <td>mon</td>\n",
              "      <td>...</td>\n",
              "      <td>1</td>\n",
              "      <td>999</td>\n",
              "      <td>0</td>\n",
              "      <td>nonexistent</td>\n",
              "      <td>1.1</td>\n",
              "      <td>93.994</td>\n",
              "      <td>-36.4</td>\n",
              "      <td>4.857</td>\n",
              "      <td>5191.0</td>\n",
              "      <td>no</td>\n",
              "    </tr>\n",
              "    <tr>\n",
              "      <th>2</th>\n",
              "      <td>37</td>\n",
              "      <td>services</td>\n",
              "      <td>married</td>\n",
              "      <td>high.school</td>\n",
              "      <td>no</td>\n",
              "      <td>yes</td>\n",
              "      <td>no</td>\n",
              "      <td>telephone</td>\n",
              "      <td>may</td>\n",
              "      <td>mon</td>\n",
              "      <td>...</td>\n",
              "      <td>1</td>\n",
              "      <td>999</td>\n",
              "      <td>0</td>\n",
              "      <td>nonexistent</td>\n",
              "      <td>1.1</td>\n",
              "      <td>93.994</td>\n",
              "      <td>-36.4</td>\n",
              "      <td>4.857</td>\n",
              "      <td>5191.0</td>\n",
              "      <td>no</td>\n",
              "    </tr>\n",
              "    <tr>\n",
              "      <th>3</th>\n",
              "      <td>40</td>\n",
              "      <td>admin.</td>\n",
              "      <td>married</td>\n",
              "      <td>basic.6y</td>\n",
              "      <td>no</td>\n",
              "      <td>no</td>\n",
              "      <td>no</td>\n",
              "      <td>telephone</td>\n",
              "      <td>may</td>\n",
              "      <td>mon</td>\n",
              "      <td>...</td>\n",
              "      <td>1</td>\n",
              "      <td>999</td>\n",
              "      <td>0</td>\n",
              "      <td>nonexistent</td>\n",
              "      <td>1.1</td>\n",
              "      <td>93.994</td>\n",
              "      <td>-36.4</td>\n",
              "      <td>4.857</td>\n",
              "      <td>5191.0</td>\n",
              "      <td>no</td>\n",
              "    </tr>\n",
              "    <tr>\n",
              "      <th>4</th>\n",
              "      <td>56</td>\n",
              "      <td>services</td>\n",
              "      <td>married</td>\n",
              "      <td>high.school</td>\n",
              "      <td>no</td>\n",
              "      <td>no</td>\n",
              "      <td>yes</td>\n",
              "      <td>telephone</td>\n",
              "      <td>may</td>\n",
              "      <td>mon</td>\n",
              "      <td>...</td>\n",
              "      <td>1</td>\n",
              "      <td>999</td>\n",
              "      <td>0</td>\n",
              "      <td>nonexistent</td>\n",
              "      <td>1.1</td>\n",
              "      <td>93.994</td>\n",
              "      <td>-36.4</td>\n",
              "      <td>4.857</td>\n",
              "      <td>5191.0</td>\n",
              "      <td>no</td>\n",
              "    </tr>\n",
              "  </tbody>\n",
              "</table>\n",
              "<p>5 rows × 21 columns</p>\n",
              "</div>\n",
              "      <button class=\"colab-df-convert\" onclick=\"convertToInteractive('df-947b0e4d-5cf8-45f2-8a5b-1d093d0552e6')\"\n",
              "              title=\"Convert this dataframe to an interactive table.\"\n",
              "              style=\"display:none;\">\n",
              "        \n",
              "  <svg xmlns=\"http://www.w3.org/2000/svg\" height=\"24px\"viewBox=\"0 0 24 24\"\n",
              "       width=\"24px\">\n",
              "    <path d=\"M0 0h24v24H0V0z\" fill=\"none\"/>\n",
              "    <path d=\"M18.56 5.44l.94 2.06.94-2.06 2.06-.94-2.06-.94-.94-2.06-.94 2.06-2.06.94zm-11 1L8.5 8.5l.94-2.06 2.06-.94-2.06-.94L8.5 2.5l-.94 2.06-2.06.94zm10 10l.94 2.06.94-2.06 2.06-.94-2.06-.94-.94-2.06-.94 2.06-2.06.94z\"/><path d=\"M17.41 7.96l-1.37-1.37c-.4-.4-.92-.59-1.43-.59-.52 0-1.04.2-1.43.59L10.3 9.45l-7.72 7.72c-.78.78-.78 2.05 0 2.83L4 21.41c.39.39.9.59 1.41.59.51 0 1.02-.2 1.41-.59l7.78-7.78 2.81-2.81c.8-.78.8-2.07 0-2.86zM5.41 20L4 18.59l7.72-7.72 1.47 1.35L5.41 20z\"/>\n",
              "  </svg>\n",
              "      </button>\n",
              "      \n",
              "  <style>\n",
              "    .colab-df-container {\n",
              "      display:flex;\n",
              "      flex-wrap:wrap;\n",
              "      gap: 12px;\n",
              "    }\n",
              "\n",
              "    .colab-df-convert {\n",
              "      background-color: #E8F0FE;\n",
              "      border: none;\n",
              "      border-radius: 50%;\n",
              "      cursor: pointer;\n",
              "      display: none;\n",
              "      fill: #1967D2;\n",
              "      height: 32px;\n",
              "      padding: 0 0 0 0;\n",
              "      width: 32px;\n",
              "    }\n",
              "\n",
              "    .colab-df-convert:hover {\n",
              "      background-color: #E2EBFA;\n",
              "      box-shadow: 0px 1px 2px rgba(60, 64, 67, 0.3), 0px 1px 3px 1px rgba(60, 64, 67, 0.15);\n",
              "      fill: #174EA6;\n",
              "    }\n",
              "\n",
              "    [theme=dark] .colab-df-convert {\n",
              "      background-color: #3B4455;\n",
              "      fill: #D2E3FC;\n",
              "    }\n",
              "\n",
              "    [theme=dark] .colab-df-convert:hover {\n",
              "      background-color: #434B5C;\n",
              "      box-shadow: 0px 1px 3px 1px rgba(0, 0, 0, 0.15);\n",
              "      filter: drop-shadow(0px 1px 2px rgba(0, 0, 0, 0.3));\n",
              "      fill: #FFFFFF;\n",
              "    }\n",
              "  </style>\n",
              "\n",
              "      <script>\n",
              "        const buttonEl =\n",
              "          document.querySelector('#df-947b0e4d-5cf8-45f2-8a5b-1d093d0552e6 button.colab-df-convert');\n",
              "        buttonEl.style.display =\n",
              "          google.colab.kernel.accessAllowed ? 'block' : 'none';\n",
              "\n",
              "        async function convertToInteractive(key) {\n",
              "          const element = document.querySelector('#df-947b0e4d-5cf8-45f2-8a5b-1d093d0552e6');\n",
              "          const dataTable =\n",
              "            await google.colab.kernel.invokeFunction('convertToInteractive',\n",
              "                                                     [key], {});\n",
              "          if (!dataTable) return;\n",
              "\n",
              "          const docLinkHtml = 'Like what you see? Visit the ' +\n",
              "            '<a target=\"_blank\" href=https://colab.research.google.com/notebooks/data_table.ipynb>data table notebook</a>'\n",
              "            + ' to learn more about interactive tables.';\n",
              "          element.innerHTML = '';\n",
              "          dataTable['output_type'] = 'display_data';\n",
              "          await google.colab.output.renderOutput(dataTable, element);\n",
              "          const docLink = document.createElement('div');\n",
              "          docLink.innerHTML = docLinkHtml;\n",
              "          element.appendChild(docLink);\n",
              "        }\n",
              "      </script>\n",
              "    </div>\n",
              "  </div>\n",
              "  "
            ]
          },
          "metadata": {},
          "execution_count": 47
        }
      ]
    },
    {
      "cell_type": "code",
      "source": [
        "\n",
        "#count the number of rows for each type\n",
        "df1.groupby('y').size()\n",
        "\n"
      ],
      "metadata": {
        "colab": {
          "base_uri": "https://localhost:8080/"
        },
        "id": "DrvgF0vfqbTQ",
        "outputId": "2f8673e4-7916-40dd-8d3a-e78d592566bf"
      },
      "execution_count": null,
      "outputs": [
        {
          "output_type": "execute_result",
          "data": {
            "text/plain": [
              "y\n",
              "no     36548\n",
              "yes     4640\n",
              "dtype: int64"
            ]
          },
          "metadata": {},
          "execution_count": 48
        }
      ]
    },
    {
      "cell_type": "code",
      "source": [
        "#OUTPUT_LABEL is going to represent 0 for the negative and 1 for the positive based on the data set.\n",
        "df1['OUTPUT_LABEL'] = (df1.y == 'yes').astype('int')"
      ],
      "metadata": {
        "id": "Fp7MOvO2rD5B"
      },
      "execution_count": null,
      "outputs": []
    },
    {
      "cell_type": "markdown",
      "source": [
        "Next we are calculating how many postive classes are there in the data set"
      ],
      "metadata": {
        "id": "ScjqBY6QIH0y"
      }
    },
    {
      "cell_type": "code",
      "source": [
        "#The prevalence of the positive class is calculated here...\n",
        "\n",
        "def calc_prevalence(y_actual):\n",
        "    # this function calculates the prevalence of the positive class (label = 1)\n",
        "    return (sum(y_actual)/len(y_actual))\n",
        "print('prevalence of the positive class: %.3f'%calc_prevalence(df1['OUTPUT_LABEL'].values))\n",
        "#prevalence of the positive class: 0.113\n",
        "#The prevlence of the positive class is 11.3% which means that the proportion of people who agreed to a term deposit (positive class) compared to the people who did not is 11.3%."
      ],
      "metadata": {
        "colab": {
          "base_uri": "https://localhost:8080/"
        },
        "id": "8_JaO2TErewP",
        "outputId": "478e998f-883c-42d5-a192-963e5950711f"
      },
      "execution_count": null,
      "outputs": [
        {
          "output_type": "stream",
          "name": "stdout",
          "text": [
            "prevalence of the positive class: 0.113\n"
          ]
        }
      ]
    },
    {
      "cell_type": "code",
      "source": [
        "df1.info()"
      ],
      "metadata": {
        "colab": {
          "base_uri": "https://localhost:8080/"
        },
        "id": "rWncRgs2wCjf",
        "outputId": "113d6b26-d796-4b51-ea39-832078f8ebe5"
      },
      "execution_count": null,
      "outputs": [
        {
          "output_type": "stream",
          "name": "stdout",
          "text": [
            "<class 'pandas.core.frame.DataFrame'>\n",
            "RangeIndex: 41188 entries, 0 to 41187\n",
            "Data columns (total 22 columns):\n",
            " #   Column          Non-Null Count  Dtype  \n",
            "---  ------          --------------  -----  \n",
            " 0   age             41188 non-null  int64  \n",
            " 1   job             41188 non-null  object \n",
            " 2   marital         41188 non-null  object \n",
            " 3   education       41188 non-null  object \n",
            " 4   default         41188 non-null  object \n",
            " 5   housing         41188 non-null  object \n",
            " 6   loan            41188 non-null  object \n",
            " 7   contact         41188 non-null  object \n",
            " 8   month           41188 non-null  object \n",
            " 9   day_of_week     41188 non-null  object \n",
            " 10  duration        41188 non-null  int64  \n",
            " 11  campaign        41188 non-null  int64  \n",
            " 12  pdays           41188 non-null  int64  \n",
            " 13  previous        41188 non-null  int64  \n",
            " 14  poutcome        41188 non-null  object \n",
            " 15  emp.var.rate    41188 non-null  float64\n",
            " 16  cons.price.idx  41188 non-null  float64\n",
            " 17  cons.conf.idx   41188 non-null  float64\n",
            " 18  euribor3m       41188 non-null  float64\n",
            " 19  nr.employed     41188 non-null  float64\n",
            " 20  y               41188 non-null  object \n",
            " 21  OUTPUT_LABEL    41188 non-null  int64  \n",
            "dtypes: float64(5), int64(6), object(11)\n",
            "memory usage: 6.9+ MB\n"
          ]
        }
      ]
    },
    {
      "cell_type": "code",
      "source": [
        "#making the correalation heatmap to see how are the features connected to each other\n",
        "corr = df1.corr()\n",
        "sns.heatmap(corr, \n",
        "            xticklabels=corr.columns.values,\n",
        "            yticklabels=corr.columns.values)"
      ],
      "metadata": {
        "colab": {
          "base_uri": "https://localhost:8080/",
          "height": 353
        },
        "id": "-n8ygO8Fel0v",
        "outputId": "86b1967e-89d6-45f5-df16-f6e016f6fb81"
      },
      "execution_count": null,
      "outputs": [
        {
          "output_type": "execute_result",
          "data": {
            "text/plain": [
              "<matplotlib.axes._subplots.AxesSubplot at 0x7fd2d7adfa00>"
            ]
          },
          "metadata": {},
          "execution_count": 52
        },
        {
          "output_type": "display_data",
          "data": {
            "text/plain": [
              "<Figure size 432x288 with 2 Axes>"
            ],
            "image/png": "[encoded data removed]"
          },
          "metadata": {
            "needs_background": "light"
          }
        }
      ]
    },
    {
      "cell_type": "code",
      "source": [
        "#taking out the numerical coloumns, the coloumns having specific numerical values \n",
        "cols_num = ['campaign', 'pdays',\n",
        "       'previous', 'emp.var.rate', 'cons.price.idx','cons.conf.idx', 'nr.employed','age','euribor3m']\n",
        "df1[cols_num].head()"
      ],
      "metadata": {
        "colab": {
          "base_uri": "https://localhost:8080/",
          "height": 206
        },
        "id": "84Sc3eDW5no4",
        "outputId": "82bf3dc6-124e-434b-fae5-bd5a8e369d7a"
      },
      "execution_count": null,
      "outputs": [
        {
          "output_type": "execute_result",
          "data": {
            "text/plain": [
              "   campaign  pdays  previous  emp.var.rate  cons.price.idx  cons.conf.idx  \\\n",
              "0         1    999         0           1.1          93.994          -36.4   \n",
              "1         1    999         0           1.1          93.994          -36.4   \n",
              "2         1    999         0           1.1          93.994          -36.4   \n",
              "3         1    999         0           1.1          93.994          -36.4   \n",
              "4         1    999         0           1.1          93.994          -36.4   \n",
              "\n",
              "   nr.employed  age  euribor3m  \n",
              "0       5191.0   56      4.857  \n",
              "1       5191.0   57      4.857  \n",
              "2       5191.0   37      4.857  \n",
              "3       5191.0   40      4.857  \n",
              "4       5191.0   56      4.857  "
            ],
            "text/html": [
              "\n",
              "  <div id=\"df-fd38d834-67c1-4461-bea0-daa0935785a5\">\n",
              "    <div class=\"colab-df-container\">\n",
              "      <div>\n",
              "<style scoped>\n",
              "    .dataframe tbody tr th:only-of-type {\n",
              "        vertical-align: middle;\n",
              "    }\n",
              "\n",
              "    .dataframe tbody tr th {\n",
              "        vertical-align: top;\n",
              "    }\n",
              "\n",
              "    .dataframe thead th {\n",
              "        text-align: right;\n",
              "    }\n",
              "</style>\n",
              "<table border=\"1\" class=\"dataframe\">\n",
              "  <thead>\n",
              "    <tr style=\"text-align: right;\">\n",
              "      <th></th>\n",
              "      <th>campaign</th>\n",
              "      <th>pdays</th>\n",
              "      <th>previous</th>\n",
              "      <th>emp.var.rate</th>\n",
              "      <th>cons.price.idx</th>\n",
              "      <th>cons.conf.idx</th>\n",
              "      <th>nr.employed</th>\n",
              "      <th>age</th>\n",
              "      <th>euribor3m</th>\n",
              "    </tr>\n",
              "  </thead>\n",
              "  <tbody>\n",
              "    <tr>\n",
              "      <th>0</th>\n",
              "      <td>1</td>\n",
              "      <td>999</td>\n",
              "      <td>0</td>\n",
              "      <td>1.1</td>\n",
              "      <td>93.994</td>\n",
              "      <td>-36.4</td>\n",
              "      <td>5191.0</td>\n",
              "      <td>56</td>\n",
              "      <td>4.857</td>\n",
              "    </tr>\n",
              "    <tr>\n",
              "      <th>1</th>\n",
              "      <td>1</td>\n",
              "      <td>999</td>\n",
              "      <td>0</td>\n",
              "      <td>1.1</td>\n",
              "      <td>93.994</td>\n",
              "      <td>-36.4</td>\n",
              "      <td>5191.0</td>\n",
              "      <td>57</td>\n",
              "      <td>4.857</td>\n",
              "    </tr>\n",
              "    <tr>\n",
              "      <th>2</th>\n",
              "      <td>1</td>\n",
              "      <td>999</td>\n",
              "      <td>0</td>\n",
              "      <td>1.1</td>\n",
              "      <td>93.994</td>\n",
              "      <td>-36.4</td>\n",
              "      <td>5191.0</td>\n",
              "      <td>37</td>\n",
              "      <td>4.857</td>\n",
              "    </tr>\n",
              "    <tr>\n",
              "      <th>3</th>\n",
              "      <td>1</td>\n",
              "      <td>999</td>\n",
              "      <td>0</td>\n",
              "      <td>1.1</td>\n",
              "      <td>93.994</td>\n",
              "      <td>-36.4</td>\n",
              "      <td>5191.0</td>\n",
              "      <td>40</td>\n",
              "      <td>4.857</td>\n",
              "    </tr>\n",
              "    <tr>\n",
              "      <th>4</th>\n",
              "      <td>1</td>\n",
              "      <td>999</td>\n",
              "      <td>0</td>\n",
              "      <td>1.1</td>\n",
              "      <td>93.994</td>\n",
              "      <td>-36.4</td>\n",
              "      <td>5191.0</td>\n",
              "      <td>56</td>\n",
              "      <td>4.857</td>\n",
              "    </tr>\n",
              "  </tbody>\n",
              "</table>\n",
              "</div>\n",
              "      <button class=\"colab-df-convert\" onclick=\"convertToInteractive('df-fd38d834-67c1-4461-bea0-daa0935785a5')\"\n",
              "              title=\"Convert this dataframe to an interactive table.\"\n",
              "              style=\"display:none;\">\n",
              "        \n",
              "  <svg xmlns=\"http://www.w3.org/2000/svg\" height=\"24px\"viewBox=\"0 0 24 24\"\n",
              "       width=\"24px\">\n",
              "    <path d=\"M0 0h24v24H0V0z\" fill=\"none\"/>\n",
              "    <path d=\"M18.56 5.44l.94 2.06.94-2.06 2.06-.94-2.06-.94-.94-2.06-.94 2.06-2.06.94zm-11 1L8.5 8.5l.94-2.06 2.06-.94-2.06-.94L8.5 2.5l-.94 2.06-2.06.94zm10 10l.94 2.06.94-2.06 2.06-.94-2.06-.94-.94-2.06-.94 2.06-2.06.94z\"/><path d=\"M17.41 7.96l-1.37-1.37c-.4-.4-.92-.59-1.43-.59-.52 0-1.04.2-1.43.59L10.3 9.45l-7.72 7.72c-.78.78-.78 2.05 0 2.83L4 21.41c.39.39.9.59 1.41.59.51 0 1.02-.2 1.41-.59l7.78-7.78 2.81-2.81c.8-.78.8-2.07 0-2.86zM5.41 20L4 18.59l7.72-7.72 1.47 1.35L5.41 20z\"/>\n",
              "  </svg>\n",
              "      </button>\n",
              "      \n",
              "  <style>\n",
              "    .colab-df-container {\n",
              "      display:flex;\n",
              "      flex-wrap:wrap;\n",
              "      gap: 12px;\n",
              "    }\n",
              "\n",
              "    .colab-df-convert {\n",
              "      background-color: #E8F0FE;\n",
              "      border: none;\n",
              "      border-radius: 50%;\n",
              "      cursor: pointer;\n",
              "      display: none;\n",
              "      fill: #1967D2;\n",
              "      height: 32px;\n",
              "      padding: 0 0 0 0;\n",
              "      width: 32px;\n",
              "    }\n",
              "\n",
              "    .colab-df-convert:hover {\n",
              "      background-color: #E2EBFA;\n",
              "      box-shadow: 0px 1px 2px rgba(60, 64, 67, 0.3), 0px 1px 3px 1px rgba(60, 64, 67, 0.15);\n",
              "      fill: #174EA6;\n",
              "    }\n",
              "\n",
              "    [theme=dark] .colab-df-convert {\n",
              "      background-color: #3B4455;\n",
              "      fill: #D2E3FC;\n",
              "    }\n",
              "\n",
              "    [theme=dark] .colab-df-convert:hover {\n",
              "      background-color: #434B5C;\n",
              "      box-shadow: 0px 1px 3px 1px rgba(0, 0, 0, 0.15);\n",
              "      filter: drop-shadow(0px 1px 2px rgba(0, 0, 0, 0.3));\n",
              "      fill: #FFFFFF;\n",
              "    }\n",
              "  </style>\n",
              "\n",
              "      <script>\n",
              "        const buttonEl =\n",
              "          document.querySelector('#df-fd38d834-67c1-4461-bea0-daa0935785a5 button.colab-df-convert');\n",
              "        buttonEl.style.display =\n",
              "          google.colab.kernel.accessAllowed ? 'block' : 'none';\n",
              "\n",
              "        async function convertToInteractive(key) {\n",
              "          const element = document.querySelector('#df-fd38d834-67c1-4461-bea0-daa0935785a5');\n",
              "          const dataTable =\n",
              "            await google.colab.kernel.invokeFunction('convertToInteractive',\n",
              "                                                     [key], {});\n",
              "          if (!dataTable) return;\n",
              "\n",
              "          const docLinkHtml = 'Like what you see? Visit the ' +\n",
              "            '<a target=\"_blank\" href=https://colab.research.google.com/notebooks/data_table.ipynb>data table notebook</a>'\n",
              "            + ' to learn more about interactive tables.';\n",
              "          element.innerHTML = '';\n",
              "          dataTable['output_type'] = 'display_data';\n",
              "          await google.colab.output.renderOutput(dataTable, element);\n",
              "          const docLink = document.createElement('div');\n",
              "          docLink.innerHTML = docLinkHtml;\n",
              "          element.appendChild(docLink);\n",
              "        }\n",
              "      </script>\n",
              "    </div>\n",
              "  </div>\n",
              "  "
            ]
          },
          "metadata": {},
          "execution_count": 53
        }
      ]
    },
    {
      "cell_type": "code",
      "source": [
        "# checking for the age distribution in the data set\n",
        "import matplotlib.pyplot as plt\n",
        "%matplotlib inline\n",
        "import warnings\n",
        "\n",
        "warnings.filterwarnings('ignore')\n",
        "fig, ax = plt.subplots()\n",
        "fig.set_size_inches(20, 8)\n",
        "sns.countplot(x = 'age', data =  df1[cols_num])\n",
        "ax.set_xlabel('Age', fontsize=15)\n",
        "ax.set_ylabel('Count', fontsize=15)\n",
        "ax.set_title('Age Count Distribution', fontsize=15)\n",
        "sns.despine()"
      ],
      "metadata": {
        "colab": {
          "base_uri": "https://localhost:8080/",
          "height": 520
        },
        "id": "p1rE_mOs5wxh",
        "outputId": "f61ce148-a6f1-4a1c-f560-1335ff5f6f9b"
      },
      "execution_count": null,
      "outputs": [
        {
          "output_type": "display_data",
          "data": {
            "text/plain": [
              "<Figure size 1440x576 with 1 Axes>"
            ],
            "image/png": "[encoded data removed]"
          },
          "metadata": {
            "needs_background": "light"
          }
        }
      ]
    },
    {
      "cell_type": "code",
      "source": [
        "#checking if there is any null values\n",
        "df1[cols_num].isnull().sum()"
      ],
      "metadata": {
        "colab": {
          "base_uri": "https://localhost:8080/"
        },
        "id": "YM6nFbzY6EXS",
        "outputId": "de8f57ae-5da9-4763-9545-d34ff81e5a52"
      },
      "execution_count": null,
      "outputs": [
        {
          "output_type": "execute_result",
          "data": {
            "text/plain": [
              "campaign          0\n",
              "pdays             0\n",
              "previous          0\n",
              "emp.var.rate      0\n",
              "cons.price.idx    0\n",
              "cons.conf.idx     0\n",
              "nr.employed       0\n",
              "age               0\n",
              "euribor3m         0\n",
              "dtype: int64"
            ]
          },
          "metadata": {},
          "execution_count": 55
        }
      ]
    },
    {
      "cell_type": "code",
      "source": [
        "#the columns with categorical values\n",
        "cols_cat = ['job', 'marital', \n",
        "       'education', 'default',\n",
        "       'housing', 'loan', 'month',\n",
        "       'day_of_week', 'poutcome']\n",
        "df1[cols_cat].isnull().sum()"
      ],
      "metadata": {
        "colab": {
          "base_uri": "https://localhost:8080/"
        },
        "id": "LL4Kpr327cYw",
        "outputId": "dfde7ac4-382d-4d1c-911f-82e4299a009f"
      },
      "execution_count": null,
      "outputs": [
        {
          "output_type": "execute_result",
          "data": {
            "text/plain": [
              "job            0\n",
              "marital        0\n",
              "education      0\n",
              "default        0\n",
              "housing        0\n",
              "loan           0\n",
              "month          0\n",
              "day_of_week    0\n",
              "poutcome       0\n",
              "dtype: int64"
            ]
          },
          "metadata": {},
          "execution_count": 56
        }
      ]
    },
    {
      "cell_type": "code",
      "source": [
        "cols_cat = ['job', 'marital', \n",
        "       'education', 'default',\n",
        "       'housing', 'loan', 'month',\n",
        "       'day_of_week', 'poutcome',]\n",
        "df1[cols_cat]\n",
        "cols_new_cat=pd.get_dummies(df1[cols_cat],drop_first = False)\n",
        "cols_new_cat.head()"
      ],
      "metadata": {
        "colab": {
          "base_uri": "https://localhost:8080/",
          "height": 317
        },
        "id": "K7FZWuqx70hI",
        "outputId": "c8e58975-3482-4702-8e52-6564c98b08f4"
      },
      "execution_count": null,
      "outputs": [
        {
          "output_type": "execute_result",
          "data": {
            "text/plain": [
              "   job_admin.  job_blue-collar  job_entrepreneur  job_housemaid  \\\n",
              "0           0                0                 0              1   \n",
              "1           0                0                 0              0   \n",
              "2           0                0                 0              0   \n",
              "3           1                0                 0              0   \n",
              "4           0                0                 0              0   \n",
              "\n",
              "   job_management  job_retired  job_self-employed  job_services  job_student  \\\n",
              "0               0            0                  0             0            0   \n",
              "1               0            0                  0             1            0   \n",
              "2               0            0                  0             1            0   \n",
              "3               0            0                  0             0            0   \n",
              "4               0            0                  0             1            0   \n",
              "\n",
              "   job_technician  ...  month_oct  month_sep  day_of_week_fri  \\\n",
              "0               0  ...          0          0                0   \n",
              "1               0  ...          0          0                0   \n",
              "2               0  ...          0          0                0   \n",
              "3               0  ...          0          0                0   \n",
              "4               0  ...          0          0                0   \n",
              "\n",
              "   day_of_week_mon  day_of_week_thu  day_of_week_tue  day_of_week_wed  \\\n",
              "0                1                0                0                0   \n",
              "1                1                0                0                0   \n",
              "2                1                0                0                0   \n",
              "3                1                0                0                0   \n",
              "4                1                0                0                0   \n",
              "\n",
              "   poutcome_failure  poutcome_nonexistent  poutcome_success  \n",
              "0                 0                     1                 0  \n",
              "1                 0                     1                 0  \n",
              "2                 0                     1                 0  \n",
              "3                 0                     1                 0  \n",
              "4                 0                     1                 0  \n",
              "\n",
              "[5 rows x 51 columns]"
            ],
            "text/html": [
              "\n",
              "  <div id=\"df-ad09053f-6141-42f1-be04-796cdf19e37c\">\n",
              "    <div class=\"colab-df-container\">\n",
              "      <div>\n",
              "<style scoped>\n",
              "    .dataframe tbody tr th:only-of-type {\n",
              "        vertical-align: middle;\n",
              "    }\n",
              "\n",
              "    .dataframe tbody tr th {\n",
              "        vertical-align: top;\n",
              "    }\n",
              "\n",
              "    .dataframe thead th {\n",
              "        text-align: right;\n",
              "    }\n",
              "</style>\n",
              "<table border=\"1\" class=\"dataframe\">\n",
              "  <thead>\n",
              "    <tr style=\"text-align: right;\">\n",
              "      <th></th>\n",
              "      <th>job_admin.</th>\n",
              "      <th>job_blue-collar</th>\n",
              "      <th>job_entrepreneur</th>\n",
              "      <th>job_housemaid</th>\n",
              "      <th>job_management</th>\n",
              "      <th>job_retired</th>\n",
              "      <th>job_self-employed</th>\n",
              "      <th>job_services</th>\n",
              "      <th>job_student</th>\n",
              "      <th>job_technician</th>\n",
              "      <th>...</th>\n",
              "      <th>month_oct</th>\n",
              "      <th>month_sep</th>\n",
              "      <th>day_of_week_fri</th>\n",
              "      <th>day_of_week_mon</th>\n",
              "      <th>day_of_week_thu</th>\n",
              "      <th>day_of_week_tue</th>\n",
              "      <th>day_of_week_wed</th>\n",
              "      <th>poutcome_failure</th>\n",
              "      <th>poutcome_nonexistent</th>\n",
              "      <th>poutcome_success</th>\n",
              "    </tr>\n",
              "  </thead>\n",
              "  <tbody>\n",
              "    <tr>\n",
              "      <th>0</th>\n",
              "      <td>0</td>\n",
              "      <td>0</td>\n",
              "      <td>0</td>\n",
              "      <td>1</td>\n",
              "      <td>0</td>\n",
              "      <td>0</td>\n",
              "      <td>0</td>\n",
              "      <td>0</td>\n",
              "      <td>0</td>\n",
              "      <td>0</td>\n",
              "      <td>...</td>\n",
              "      <td>0</td>\n",
              "      <td>0</td>\n",
              "      <td>0</td>\n",
              "      <td>1</td>\n",
              "      <td>0</td>\n",
              "      <td>0</td>\n",
              "      <td>0</td>\n",
              "      <td>0</td>\n",
              "      <td>1</td>\n",
              "      <td>0</td>\n",
              "    </tr>\n",
              "    <tr>\n",
              "      <th>1</th>\n",
              "      <td>0</td>\n",
              "      <td>0</td>\n",
              "      <td>0</td>\n",
              "      <td>0</td>\n",
              "      <td>0</td>\n",
              "      <td>0</td>\n",
              "      <td>0</td>\n",
              "      <td>1</td>\n",
              "      <td>0</td>\n",
              "      <td>0</td>\n",
              "      <td>...</td>\n",
              "      <td>0</td>\n",
              "      <td>0</td>\n",
              "      <td>0</td>\n",
              "      <td>1</td>\n",
              "      <td>0</td>\n",
              "      <td>0</td>\n",
              "      <td>0</td>\n",
              "      <td>0</td>\n",
              "      <td>1</td>\n",
              "      <td>0</td>\n",
              "    </tr>\n",
              "    <tr>\n",
              "      <th>2</th>\n",
              "      <td>0</td>\n",
              "      <td>0</td>\n",
              "      <td>0</td>\n",
              "      <td>0</td>\n",
              "      <td>0</td>\n",
              "      <td>0</td>\n",
              "      <td>0</td>\n",
              "      <td>1</td>\n",
              "      <td>0</td>\n",
              "      <td>0</td>\n",
              "      <td>...</td>\n",
              "      <td>0</td>\n",
              "      <td>0</td>\n",
              "      <td>0</td>\n",
              "      <td>1</td>\n",
              "      <td>0</td>\n",
              "      <td>0</td>\n",
              "      <td>0</td>\n",
              "      <td>0</td>\n",
              "      <td>1</td>\n",
              "      <td>0</td>\n",
              "    </tr>\n",
              "    <tr>\n",
              "      <th>3</th>\n",
              "      <td>1</td>\n",
              "      <td>0</td>\n",
              "      <td>0</td>\n",
              "      <td>0</td>\n",
              "      <td>0</td>\n",
              "      <td>0</td>\n",
              "      <td>0</td>\n",
              "      <td>0</td>\n",
              "      <td>0</td>\n",
              "      <td>0</td>\n",
              "      <td>...</td>\n",
              "      <td>0</td>\n",
              "      <td>0</td>\n",
              "      <td>0</td>\n",
              "      <td>1</td>\n",
              "      <td>0</td>\n",
              "      <td>0</td>\n",
              "      <td>0</td>\n",
              "      <td>0</td>\n",
              "      <td>1</td>\n",
              "      <td>0</td>\n",
              "    </tr>\n",
              "    <tr>\n",
              "      <th>4</th>\n",
              "      <td>0</td>\n",
              "      <td>0</td>\n",
              "      <td>0</td>\n",
              "      <td>0</td>\n",
              "      <td>0</td>\n",
              "      <td>0</td>\n",
              "      <td>0</td>\n",
              "      <td>1</td>\n",
              "      <td>0</td>\n",
              "      <td>0</td>\n",
              "      <td>...</td>\n",
              "      <td>0</td>\n",
              "      <td>0</td>\n",
              "      <td>0</td>\n",
              "      <td>1</td>\n",
              "      <td>0</td>\n",
              "      <td>0</td>\n",
              "      <td>0</td>\n",
              "      <td>0</td>\n",
              "      <td>1</td>\n",
              "      <td>0</td>\n",
              "    </tr>\n",
              "  </tbody>\n",
              "</table>\n",
              "<p>5 rows × 51 columns</p>\n",
              "</div>\n",
              "      <button class=\"colab-df-convert\" onclick=\"convertToInteractive('df-ad09053f-6141-42f1-be04-796cdf19e37c')\"\n",
              "              title=\"Convert this dataframe to an interactive table.\"\n",
              "              style=\"display:none;\">\n",
              "        \n",
              "  <svg xmlns=\"http://www.w3.org/2000/svg\" height=\"24px\"viewBox=\"0 0 24 24\"\n",
              "       width=\"24px\">\n",
              "    <path d=\"M0 0h24v24H0V0z\" fill=\"none\"/>\n",
              "    <path d=\"M18.56 5.44l.94 2.06.94-2.06 2.06-.94-2.06-.94-.94-2.06-.94 2.06-2.06.94zm-11 1L8.5 8.5l.94-2.06 2.06-.94-2.06-.94L8.5 2.5l-.94 2.06-2.06.94zm10 10l.94 2.06.94-2.06 2.06-.94-2.06-.94-.94-2.06-.94 2.06-2.06.94z\"/><path d=\"M17.41 7.96l-1.37-1.37c-.4-.4-.92-.59-1.43-.59-.52 0-1.04.2-1.43.59L10.3 9.45l-7.72 7.72c-.78.78-.78 2.05 0 2.83L4 21.41c.39.39.9.59 1.41.59.51 0 1.02-.2 1.41-.59l7.78-7.78 2.81-2.81c.8-.78.8-2.07 0-2.86zM5.41 20L4 18.59l7.72-7.72 1.47 1.35L5.41 20z\"/>\n",
              "  </svg>\n",
              "      </button>\n",
              "      \n",
              "  <style>\n",
              "    .colab-df-container {\n",
              "      display:flex;\n",
              "      flex-wrap:wrap;\n",
              "      gap: 12px;\n",
              "    }\n",
              "\n",
              "    .colab-df-convert {\n",
              "      background-color: #E8F0FE;\n",
              "      border: none;\n",
              "      border-radius: 50%;\n",
              "      cursor: pointer;\n",
              "      display: none;\n",
              "      fill: #1967D2;\n",
              "      height: 32px;\n",
              "      padding: 0 0 0 0;\n",
              "      width: 32px;\n",
              "    }\n",
              "\n",
              "    .colab-df-convert:hover {\n",
              "      background-color: #E2EBFA;\n",
              "      box-shadow: 0px 1px 2px rgba(60, 64, 67, 0.3), 0px 1px 3px 1px rgba(60, 64, 67, 0.15);\n",
              "      fill: #174EA6;\n",
              "    }\n",
              "\n",
              "    [theme=dark] .colab-df-convert {\n",
              "      background-color: #3B4455;\n",
              "      fill: #D2E3FC;\n",
              "    }\n",
              "\n",
              "    [theme=dark] .colab-df-convert:hover {\n",
              "      background-color: #434B5C;\n",
              "      box-shadow: 0px 1px 3px 1px rgba(0, 0, 0, 0.15);\n",
              "      filter: drop-shadow(0px 1px 2px rgba(0, 0, 0, 0.3));\n",
              "      fill: #FFFFFF;\n",
              "    }\n",
              "  </style>\n",
              "\n",
              "      <script>\n",
              "        const buttonEl =\n",
              "          document.querySelector('#df-ad09053f-6141-42f1-be04-796cdf19e37c button.colab-df-convert');\n",
              "        buttonEl.style.display =\n",
              "          google.colab.kernel.accessAllowed ? 'block' : 'none';\n",
              "\n",
              "        async function convertToInteractive(key) {\n",
              "          const element = document.querySelector('#df-ad09053f-6141-42f1-be04-796cdf19e37c');\n",
              "          const dataTable =\n",
              "            await google.colab.kernel.invokeFunction('convertToInteractive',\n",
              "                                                     [key], {});\n",
              "          if (!dataTable) return;\n",
              "\n",
              "          const docLinkHtml = 'Like what you see? Visit the ' +\n",
              "            '<a target=\"_blank\" href=https://colab.research.google.com/notebooks/data_table.ipynb>data table notebook</a>'\n",
              "            + ' to learn more about interactive tables.';\n",
              "          element.innerHTML = '';\n",
              "          dataTable['output_type'] = 'display_data';\n",
              "          await google.colab.output.renderOutput(dataTable, element);\n",
              "          const docLink = document.createElement('div');\n",
              "          docLink.innerHTML = docLinkHtml;\n",
              "          element.appendChild(docLink);\n",
              "        }\n",
              "      </script>\n",
              "    </div>\n",
              "  </div>\n",
              "  "
            ]
          },
          "metadata": {},
          "execution_count": 57
        }
      ]
    },
    {
      "cell_type": "code",
      "source": [],
      "metadata": {
        "id": "qlgrHUq7YrmF"
      },
      "execution_count": null,
      "outputs": []
    },
    {
      "cell_type": "code",
      "source": [
        "\n",
        "import warnings\n",
        "fig, ax = plt.subplots()\n",
        "fig.set_size_inches(25, 8)\n",
        "sns.countplot(x = 'education', data = df1[cols_cat])\n",
        "ax.set_xlabel('Education Receieved', fontsize=16)\n",
        "ax.set_ylabel('Count', fontsize=16)\n",
        "ax.set_title('Education', fontsize=16)\n",
        "ax.tick_params(labelsize=16)\n",
        "sns.despine()"
      ],
      "metadata": {
        "colab": {
          "base_uri": "https://localhost:8080/",
          "height": 522
        },
        "id": "TmgJpxK-8cRA",
        "outputId": "702e2d58-8170-4f71-a03d-9c7bc34f77dd"
      },
      "execution_count": null,
      "outputs": [
        {
          "output_type": "display_data",
          "data": {
            "text/plain": [
              "<Figure size 1800x576 with 1 Axes>"
            ],
            "image/png": "[encoded data removed]"
          },
          "metadata": {
            "needs_background": "light"
          }
        }
      ]
    },
    {
      "cell_type": "code",
      "source": [
        "fig, ax = plt.subplots()\n",
        "fig.set_size_inches(25, 8)\n",
        "sns.countplot(x = 'marital', data = df1[cols_cat])\n",
        "ax.set_xlabel('Marital Status', fontsize=16)\n",
        "ax.set_ylabel('Count', fontsize=16)\n",
        "ax.set_title('Marital', fontsize=16)\n",
        "ax.tick_params(labelsize=16)\n",
        "sns.despine()"
      ],
      "metadata": {
        "colab": {
          "base_uri": "https://localhost:8080/",
          "height": 522
        },
        "id": "aTFyLVmM8qPS",
        "outputId": "827707dc-ce2e-4606-b6a5-eaaf7fa807b0"
      },
      "execution_count": null,
      "outputs": [
        {
          "output_type": "display_data",
          "data": {
            "text/plain": [
              "<Figure size 1800x576 with 1 Axes>"
            ],
            "image/png": "[encoded data removed]"
          },
          "metadata": {
            "needs_background": "light"
          }
        }
      ]
    },
    {
      "cell_type": "markdown",
      "source": [
        "After doing the one hot encoding we are now seeing the data, the columns have been now based on the categories as-well"
      ],
      "metadata": {
        "id": "gpVfnpLtY9NC"
      }
    },
    {
      "cell_type": "code",
      "source": [
        "df1 = pd.concat([df1,cols_new_cat], axis = 1)\n",
        "cols_all_cat=list(cols_new_cat.columns)\n",
        "df1[cols_all_cat].head()"
      ],
      "metadata": {
        "colab": {
          "base_uri": "https://localhost:8080/",
          "height": 317
        },
        "id": "H0Pv9-m2AhWa",
        "outputId": "5e42b900-44a3-4d85-9962-c5820539f949"
      },
      "execution_count": null,
      "outputs": [
        {
          "output_type": "execute_result",
          "data": {
            "text/plain": [
              "   job_admin.  job_blue-collar  job_entrepreneur  job_housemaid  \\\n",
              "0           0                0                 0              1   \n",
              "1           0                0                 0              0   \n",
              "2           0                0                 0              0   \n",
              "3           1                0                 0              0   \n",
              "4           0                0                 0              0   \n",
              "\n",
              "   job_management  job_retired  job_self-employed  job_services  job_student  \\\n",
              "0               0            0                  0             0            0   \n",
              "1               0            0                  0             1            0   \n",
              "2               0            0                  0             1            0   \n",
              "3               0            0                  0             0            0   \n",
              "4               0            0                  0             1            0   \n",
              "\n",
              "   job_technician  ...  month_oct  month_sep  day_of_week_fri  \\\n",
              "0               0  ...          0          0                0   \n",
              "1               0  ...          0          0                0   \n",
              "2               0  ...          0          0                0   \n",
              "3               0  ...          0          0                0   \n",
              "4               0  ...          0          0                0   \n",
              "\n",
              "   day_of_week_mon  day_of_week_thu  day_of_week_tue  day_of_week_wed  \\\n",
              "0                1                0                0                0   \n",
              "1                1                0                0                0   \n",
              "2                1                0                0                0   \n",
              "3                1                0                0                0   \n",
              "4                1                0                0                0   \n",
              "\n",
              "   poutcome_failure  poutcome_nonexistent  poutcome_success  \n",
              "0                 0                     1                 0  \n",
              "1                 0                     1                 0  \n",
              "2                 0                     1                 0  \n",
              "3                 0                     1                 0  \n",
              "4                 0                     1                 0  \n",
              "\n",
              "[5 rows x 51 columns]"
            ],
            "text/html": [
              "\n",
              "  <div id=\"df-157d94bc-d5f0-46b0-b864-c215760a059f\">\n",
              "    <div class=\"colab-df-container\">\n",
              "      <div>\n",
              "<style scoped>\n",
              "    .dataframe tbody tr th:only-of-type {\n",
              "        vertical-align: middle;\n",
              "    }\n",
              "\n",
              "    .dataframe tbody tr th {\n",
              "        vertical-align: top;\n",
              "    }\n",
              "\n",
              "    .dataframe thead th {\n",
              "        text-align: right;\n",
              "    }\n",
              "</style>\n",
              "<table border=\"1\" class=\"dataframe\">\n",
              "  <thead>\n",
              "    <tr style=\"text-align: right;\">\n",
              "      <th></th>\n",
              "      <th>job_admin.</th>\n",
              "      <th>job_blue-collar</th>\n",
              "      <th>job_entrepreneur</th>\n",
              "      <th>job_housemaid</th>\n",
              "      <th>job_management</th>\n",
              "      <th>job_retired</th>\n",
              "      <th>job_self-employed</th>\n",
              "      <th>job_services</th>\n",
              "      <th>job_student</th>\n",
              "      <th>job_technician</th>\n",
              "      <th>...</th>\n",
              "      <th>month_oct</th>\n",
              "      <th>month_sep</th>\n",
              "      <th>day_of_week_fri</th>\n",
              "      <th>day_of_week_mon</th>\n",
              "      <th>day_of_week_thu</th>\n",
              "      <th>day_of_week_tue</th>\n",
              "      <th>day_of_week_wed</th>\n",
              "      <th>poutcome_failure</th>\n",
              "      <th>poutcome_nonexistent</th>\n",
              "      <th>poutcome_success</th>\n",
              "    </tr>\n",
              "  </thead>\n",
              "  <tbody>\n",
              "    <tr>\n",
              "      <th>0</th>\n",
              "      <td>0</td>\n",
              "      <td>0</td>\n",
              "      <td>0</td>\n",
              "      <td>1</td>\n",
              "      <td>0</td>\n",
              "      <td>0</td>\n",
              "      <td>0</td>\n",
              "      <td>0</td>\n",
              "      <td>0</td>\n",
              "      <td>0</td>\n",
              "      <td>...</td>\n",
              "      <td>0</td>\n",
              "      <td>0</td>\n",
              "      <td>0</td>\n",
              "      <td>1</td>\n",
              "      <td>0</td>\n",
              "      <td>0</td>\n",
              "      <td>0</td>\n",
              "      <td>0</td>\n",
              "      <td>1</td>\n",
              "      <td>0</td>\n",
              "    </tr>\n",
              "    <tr>\n",
              "      <th>1</th>\n",
              "      <td>0</td>\n",
              "      <td>0</td>\n",
              "      <td>0</td>\n",
              "      <td>0</td>\n",
              "      <td>0</td>\n",
              "      <td>0</td>\n",
              "      <td>0</td>\n",
              "      <td>1</td>\n",
              "      <td>0</td>\n",
              "      <td>0</td>\n",
              "      <td>...</td>\n",
              "      <td>0</td>\n",
              "      <td>0</td>\n",
              "      <td>0</td>\n",
              "      <td>1</td>\n",
              "      <td>0</td>\n",
              "      <td>0</td>\n",
              "      <td>0</td>\n",
              "      <td>0</td>\n",
              "      <td>1</td>\n",
              "      <td>0</td>\n",
              "    </tr>\n",
              "    <tr>\n",
              "      <th>2</th>\n",
              "      <td>0</td>\n",
              "      <td>0</td>\n",
              "      <td>0</td>\n",
              "      <td>0</td>\n",
              "      <td>0</td>\n",
              "      <td>0</td>\n",
              "      <td>0</td>\n",
              "      <td>1</td>\n",
              "      <td>0</td>\n",
              "      <td>0</td>\n",
              "      <td>...</td>\n",
              "      <td>0</td>\n",
              "      <td>0</td>\n",
              "      <td>0</td>\n",
              "      <td>1</td>\n",
              "      <td>0</td>\n",
              "      <td>0</td>\n",
              "      <td>0</td>\n",
              "      <td>0</td>\n",
              "      <td>1</td>\n",
              "      <td>0</td>\n",
              "    </tr>\n",
              "    <tr>\n",
              "      <th>3</th>\n",
              "      <td>1</td>\n",
              "      <td>0</td>\n",
              "      <td>0</td>\n",
              "      <td>0</td>\n",
              "      <td>0</td>\n",
              "      <td>0</td>\n",
              "      <td>0</td>\n",
              "      <td>0</td>\n",
              "      <td>0</td>\n",
              "      <td>0</td>\n",
              "      <td>...</td>\n",
              "      <td>0</td>\n",
              "      <td>0</td>\n",
              "      <td>0</td>\n",
              "      <td>1</td>\n",
              "      <td>0</td>\n",
              "      <td>0</td>\n",
              "      <td>0</td>\n",
              "      <td>0</td>\n",
              "      <td>1</td>\n",
              "      <td>0</td>\n",
              "    </tr>\n",
              "    <tr>\n",
              "      <th>4</th>\n",
              "      <td>0</td>\n",
              "      <td>0</td>\n",
              "      <td>0</td>\n",
              "      <td>0</td>\n",
              "      <td>0</td>\n",
              "      <td>0</td>\n",
              "      <td>0</td>\n",
              "      <td>1</td>\n",
              "      <td>0</td>\n",
              "      <td>0</td>\n",
              "      <td>...</td>\n",
              "      <td>0</td>\n",
              "      <td>0</td>\n",
              "      <td>0</td>\n",
              "      <td>1</td>\n",
              "      <td>0</td>\n",
              "      <td>0</td>\n",
              "      <td>0</td>\n",
              "      <td>0</td>\n",
              "      <td>1</td>\n",
              "      <td>0</td>\n",
              "    </tr>\n",
              "  </tbody>\n",
              "</table>\n",
              "<p>5 rows × 51 columns</p>\n",
              "</div>\n",
              "      <button class=\"colab-df-convert\" onclick=\"convertToInteractive('df-157d94bc-d5f0-46b0-b864-c215760a059f')\"\n",
              "              title=\"Convert this dataframe to an interactive table.\"\n",
              "              style=\"display:none;\">\n",
              "        \n",
              "  <svg xmlns=\"http://www.w3.org/2000/svg\" height=\"24px\"viewBox=\"0 0 24 24\"\n",
              "       width=\"24px\">\n",
              "    <path d=\"M0 0h24v24H0V0z\" fill=\"none\"/>\n",
              "    <path d=\"M18.56 5.44l.94 2.06.94-2.06 2.06-.94-2.06-.94-.94-2.06-.94 2.06-2.06.94zm-11 1L8.5 8.5l.94-2.06 2.06-.94-2.06-.94L8.5 2.5l-.94 2.06-2.06.94zm10 10l.94 2.06.94-2.06 2.06-.94-2.06-.94-.94-2.06-.94 2.06-2.06.94z\"/><path d=\"M17.41 7.96l-1.37-1.37c-.4-.4-.92-.59-1.43-.59-.52 0-1.04.2-1.43.59L10.3 9.45l-7.72 7.72c-.78.78-.78 2.05 0 2.83L4 21.41c.39.39.9.59 1.41.59.51 0 1.02-.2 1.41-.59l7.78-7.78 2.81-2.81c.8-.78.8-2.07 0-2.86zM5.41 20L4 18.59l7.72-7.72 1.47 1.35L5.41 20z\"/>\n",
              "  </svg>\n",
              "      </button>\n",
              "      \n",
              "  <style>\n",
              "    .colab-df-container {\n",
              "      display:flex;\n",
              "      flex-wrap:wrap;\n",
              "      gap: 12px;\n",
              "    }\n",
              "\n",
              "    .colab-df-convert {\n",
              "      background-color: #E8F0FE;\n",
              "      border: none;\n",
              "      border-radius: 50%;\n",
              "      cursor: pointer;\n",
              "      display: none;\n",
              "      fill: #1967D2;\n",
              "      height: 32px;\n",
              "      padding: 0 0 0 0;\n",
              "      width: 32px;\n",
              "    }\n",
              "\n",
              "    .colab-df-convert:hover {\n",
              "      background-color: #E2EBFA;\n",
              "      box-shadow: 0px 1px 2px rgba(60, 64, 67, 0.3), 0px 1px 3px 1px rgba(60, 64, 67, 0.15);\n",
              "      fill: #174EA6;\n",
              "    }\n",
              "\n",
              "    [theme=dark] .colab-df-convert {\n",
              "      background-color: #3B4455;\n",
              "      fill: #D2E3FC;\n",
              "    }\n",
              "\n",
              "    [theme=dark] .colab-df-convert:hover {\n",
              "      background-color: #434B5C;\n",
              "      box-shadow: 0px 1px 3px 1px rgba(0, 0, 0, 0.15);\n",
              "      filter: drop-shadow(0px 1px 2px rgba(0, 0, 0, 0.3));\n",
              "      fill: #FFFFFF;\n",
              "    }\n",
              "  </style>\n",
              "\n",
              "      <script>\n",
              "        const buttonEl =\n",
              "          document.querySelector('#df-157d94bc-d5f0-46b0-b864-c215760a059f button.colab-df-convert');\n",
              "        buttonEl.style.display =\n",
              "          google.colab.kernel.accessAllowed ? 'block' : 'none';\n",
              "\n",
              "        async function convertToInteractive(key) {\n",
              "          const element = document.querySelector('#df-157d94bc-d5f0-46b0-b864-c215760a059f');\n",
              "          const dataTable =\n",
              "            await google.colab.kernel.invokeFunction('convertToInteractive',\n",
              "                                                     [key], {});\n",
              "          if (!dataTable) return;\n",
              "\n",
              "          const docLinkHtml = 'Like what you see? Visit the ' +\n",
              "            '<a target=\"_blank\" href=https://colab.research.google.com/notebooks/data_table.ipynb>data table notebook</a>'\n",
              "            + ' to learn more about interactive tables.';\n",
              "          element.innerHTML = '';\n",
              "          dataTable['output_type'] = 'display_data';\n",
              "          await google.colab.output.renderOutput(dataTable, element);\n",
              "          const docLink = document.createElement('div');\n",
              "          docLink.innerHTML = docLinkHtml;\n",
              "          element.appendChild(docLink);\n",
              "        }\n",
              "      </script>\n",
              "    </div>\n",
              "  </div>\n",
              "  "
            ]
          },
          "metadata": {},
          "execution_count": 60
        }
      ]
    },
    {
      "cell_type": "code",
      "source": [
        "print('Total number of features:', len(cols_all_cat+cols_num))\n",
        "print('Numerical Features:',len(cols_num))\n",
        "print('Categorical Features:',len(cols_all_cat))"
      ],
      "metadata": {
        "colab": {
          "base_uri": "https://localhost:8080/"
        },
        "id": "BNi-hMRQA4ND",
        "outputId": "2a4c3a64-2fb9-4f8c-e5f1-8bdf230ee3bd"
      },
      "execution_count": null,
      "outputs": [
        {
          "output_type": "stream",
          "name": "stdout",
          "text": [
            "Total number of features: 60\n",
            "Numerical Features: 9\n",
            "Categorical Features: 51\n"
          ]
        }
      ]
    },
    {
      "cell_type": "code",
      "source": [
        "df1[cols_num+cols_all_cat].isnull().sum().sort_values(ascending = False)\n"
      ],
      "metadata": {
        "colab": {
          "base_uri": "https://localhost:8080/"
        },
        "id": "jri3MLJ6BJZy",
        "outputId": "26622e56-a07f-46fe-dacd-be4278837fdf"
      },
      "execution_count": null,
      "outputs": [
        {
          "output_type": "execute_result",
          "data": {
            "text/plain": [
              "campaign                         0\n",
              "pdays                            0\n",
              "education_unknown                0\n",
              "default_no                       0\n",
              "default_unknown                  0\n",
              "default_yes                      0\n",
              "housing_no                       0\n",
              "housing_unknown                  0\n",
              "housing_yes                      0\n",
              "loan_no                          0\n",
              "loan_unknown                     0\n",
              "loan_yes                         0\n",
              "month_apr                        0\n",
              "month_aug                        0\n",
              "month_dec                        0\n",
              "month_jul                        0\n",
              "month_jun                        0\n",
              "month_mar                        0\n",
              "month_may                        0\n",
              "month_nov                        0\n",
              "month_oct                        0\n",
              "month_sep                        0\n",
              "day_of_week_fri                  0\n",
              "day_of_week_mon                  0\n",
              "day_of_week_thu                  0\n",
              "day_of_week_tue                  0\n",
              "day_of_week_wed                  0\n",
              "poutcome_failure                 0\n",
              "poutcome_nonexistent             0\n",
              "education_university.degree      0\n",
              "education_professional.course    0\n",
              "education_illiterate             0\n",
              "job_retired                      0\n",
              "previous                         0\n",
              "emp.var.rate                     0\n",
              "cons.price.idx                   0\n",
              "cons.conf.idx                    0\n",
              "nr.employed                      0\n",
              "age                              0\n",
              "euribor3m                        0\n",
              "job_admin.                       0\n",
              "job_blue-collar                  0\n",
              "job_entrepreneur                 0\n",
              "job_housemaid                    0\n",
              "job_management                   0\n",
              "job_self-employed                0\n",
              "education_high.school            0\n",
              "job_services                     0\n",
              "job_student                      0\n",
              "job_technician                   0\n",
              "job_unemployed                   0\n",
              "job_unknown                      0\n",
              "marital_divorced                 0\n",
              "marital_married                  0\n",
              "marital_single                   0\n",
              "marital_unknown                  0\n",
              "education_basic.4y               0\n",
              "education_basic.6y               0\n",
              "education_basic.9y               0\n",
              "poutcome_success                 0\n",
              "dtype: int64"
            ]
          },
          "metadata": {},
          "execution_count": 62
        }
      ]
    },
    {
      "cell_type": "code",
      "source": [
        "cols_input = cols_num + cols_all_cat\n",
        "df_data = df1[cols_input + ['OUTPUT_LABEL']]\n",
        "cols_input\n"
      ],
      "metadata": {
        "colab": {
          "base_uri": "https://localhost:8080/"
        },
        "id": "buJhhC1GBfxN",
        "outputId": "4c11d97c-5e3f-4f5b-e678-613ee9df48eb"
      },
      "execution_count": null,
      "outputs": [
        {
          "output_type": "execute_result",
          "data": {
            "text/plain": [
              "['campaign',\n",
              " 'pdays',\n",
              " 'previous',\n",
              " 'emp.var.rate',\n",
              " 'cons.price.idx',\n",
              " 'cons.conf.idx',\n",
              " 'nr.employed',\n",
              " 'age',\n",
              " 'euribor3m',\n",
              " 'job_admin.',\n",
              " 'job_blue-collar',\n",
              " 'job_entrepreneur',\n",
              " 'job_housemaid',\n",
              " 'job_management',\n",
              " 'job_retired',\n",
              " 'job_self-employed',\n",
              " 'job_services',\n",
              " 'job_student',\n",
              " 'job_technician',\n",
              " 'job_unemployed',\n",
              " 'job_unknown',\n",
              " 'marital_divorced',\n",
              " 'marital_married',\n",
              " 'marital_single',\n",
              " 'marital_unknown',\n",
              " 'education_basic.4y',\n",
              " 'education_basic.6y',\n",
              " 'education_basic.9y',\n",
              " 'education_high.school',\n",
              " 'education_illiterate',\n",
              " 'education_professional.course',\n",
              " 'education_university.degree',\n",
              " 'education_unknown',\n",
              " 'default_no',\n",
              " 'default_unknown',\n",
              " 'default_yes',\n",
              " 'housing_no',\n",
              " 'housing_unknown',\n",
              " 'housing_yes',\n",
              " 'loan_no',\n",
              " 'loan_unknown',\n",
              " 'loan_yes',\n",
              " 'month_apr',\n",
              " 'month_aug',\n",
              " 'month_dec',\n",
              " 'month_jul',\n",
              " 'month_jun',\n",
              " 'month_mar',\n",
              " 'month_may',\n",
              " 'month_nov',\n",
              " 'month_oct',\n",
              " 'month_sep',\n",
              " 'day_of_week_fri',\n",
              " 'day_of_week_mon',\n",
              " 'day_of_week_thu',\n",
              " 'day_of_week_tue',\n",
              " 'day_of_week_wed',\n",
              " 'poutcome_failure',\n",
              " 'poutcome_nonexistent',\n",
              " 'poutcome_success']"
            ]
          },
          "metadata": {},
          "execution_count": 63
        }
      ]
    },
    {
      "cell_type": "code",
      "source": [
        "size= len(cols_input)\n",
        "size "
      ],
      "metadata": {
        "colab": {
          "base_uri": "https://localhost:8080/"
        },
        "id": "pAoC9XoDBnsc",
        "outputId": "933aa6ba-454f-42ee-f4e1-f3176c1c17c5"
      },
      "execution_count": null,
      "outputs": [
        {
          "output_type": "execute_result",
          "data": {
            "text/plain": [
              "60"
            ]
          },
          "metadata": {},
          "execution_count": 64
        }
      ]
    },
    {
      "cell_type": "code",
      "source": [
        "df_data.head(6)"
      ],
      "metadata": {
        "colab": {
          "base_uri": "https://localhost:8080/",
          "height": 331
        },
        "id": "2qhP_yW3Bp21",
        "outputId": "3dd3374a-1df4-44fd-a5ec-8b3487076bdf"
      },
      "execution_count": null,
      "outputs": [
        {
          "output_type": "execute_result",
          "data": {
            "text/plain": [
              "   campaign  pdays  previous  emp.var.rate  cons.price.idx  cons.conf.idx  \\\n",
              "0         1    999         0           1.1          93.994          -36.4   \n",
              "1         1    999         0           1.1          93.994          -36.4   \n",
              "2         1    999         0           1.1          93.994          -36.4   \n",
              "3         1    999         0           1.1          93.994          -36.4   \n",
              "4         1    999         0           1.1          93.994          -36.4   \n",
              "5         1    999         0           1.1          93.994          -36.4   \n",
              "\n",
              "   nr.employed  age  euribor3m  job_admin.  ...  month_sep  day_of_week_fri  \\\n",
              "0       5191.0   56      4.857           0  ...          0                0   \n",
              "1       5191.0   57      4.857           0  ...          0                0   \n",
              "2       5191.0   37      4.857           0  ...          0                0   \n",
              "3       5191.0   40      4.857           1  ...          0                0   \n",
              "4       5191.0   56      4.857           0  ...          0                0   \n",
              "5       5191.0   45      4.857           0  ...          0                0   \n",
              "\n",
              "   day_of_week_mon  day_of_week_thu  day_of_week_tue  day_of_week_wed  \\\n",
              "0                1                0                0                0   \n",
              "1                1                0                0                0   \n",
              "2                1                0                0                0   \n",
              "3                1                0                0                0   \n",
              "4                1                0                0                0   \n",
              "5                1                0                0                0   \n",
              "\n",
              "   poutcome_failure  poutcome_nonexistent  poutcome_success  OUTPUT_LABEL  \n",
              "0                 0                     1                 0             0  \n",
              "1                 0                     1                 0             0  \n",
              "2                 0                     1                 0             0  \n",
              "3                 0                     1                 0             0  \n",
              "4                 0                     1                 0             0  \n",
              "5                 0                     1                 0             0  \n",
              "\n",
              "[6 rows x 61 columns]"
            ],
            "text/html": [
              "\n",
              "  <div id=\"df-47cb67f1-f8e2-4ba1-bfd1-7d9bd2ec4092\">\n",
              "    <div class=\"colab-df-container\">\n",
              "      <div>\n",
              "<style scoped>\n",
              "    .dataframe tbody tr th:only-of-type {\n",
              "        vertical-align: middle;\n",
              "    }\n",
              "\n",
              "    .dataframe tbody tr th {\n",
              "        vertical-align: top;\n",
              "    }\n",
              "\n",
              "    .dataframe thead th {\n",
              "        text-align: right;\n",
              "    }\n",
              "</style>\n",
              "<table border=\"1\" class=\"dataframe\">\n",
              "  <thead>\n",
              "    <tr style=\"text-align: right;\">\n",
              "      <th></th>\n",
              "      <th>campaign</th>\n",
              "      <th>pdays</th>\n",
              "      <th>previous</th>\n",
              "      <th>emp.var.rate</th>\n",
              "      <th>cons.price.idx</th>\n",
              "      <th>cons.conf.idx</th>\n",
              "      <th>nr.employed</th>\n",
              "      <th>age</th>\n",
              "      <th>euribor3m</th>\n",
              "      <th>job_admin.</th>\n",
              "      <th>...</th>\n",
              "      <th>month_sep</th>\n",
              "      <th>day_of_week_fri</th>\n",
              "      <th>day_of_week_mon</th>\n",
              "      <th>day_of_week_thu</th>\n",
              "      <th>day_of_week_tue</th>\n",
              "      <th>day_of_week_wed</th>\n",
              "      <th>poutcome_failure</th>\n",
              "      <th>poutcome_nonexistent</th>\n",
              "      <th>poutcome_success</th>\n",
              "      <th>OUTPUT_LABEL</th>\n",
              "    </tr>\n",
              "  </thead>\n",
              "  <tbody>\n",
              "    <tr>\n",
              "      <th>0</th>\n",
              "      <td>1</td>\n",
              "      <td>999</td>\n",
              "      <td>0</td>\n",
              "      <td>1.1</td>\n",
              "      <td>93.994</td>\n",
              "      <td>-36.4</td>\n",
              "      <td>5191.0</td>\n",
              "      <td>56</td>\n",
              "      <td>4.857</td>\n",
              "      <td>0</td>\n",
              "      <td>...</td>\n",
              "      <td>0</td>\n",
              "      <td>0</td>\n",
              "      <td>1</td>\n",
              "      <td>0</td>\n",
              "      <td>0</td>\n",
              "      <td>0</td>\n",
              "      <td>0</td>\n",
              "      <td>1</td>\n",
              "      <td>0</td>\n",
              "      <td>0</td>\n",
              "    </tr>\n",
              "    <tr>\n",
              "      <th>1</th>\n",
              "      <td>1</td>\n",
              "      <td>999</td>\n",
              "      <td>0</td>\n",
              "      <td>1.1</td>\n",
              "      <td>93.994</td>\n",
              "      <td>-36.4</td>\n",
              "      <td>5191.0</td>\n",
              "      <td>57</td>\n",
              "      <td>4.857</td>\n",
              "      <td>0</td>\n",
              "      <td>...</td>\n",
              "      <td>0</td>\n",
              "      <td>0</td>\n",
              "      <td>1</td>\n",
              "      <td>0</td>\n",
              "      <td>0</td>\n",
              "      <td>0</td>\n",
              "      <td>0</td>\n",
              "      <td>1</td>\n",
              "      <td>0</td>\n",
              "      <td>0</td>\n",
              "    </tr>\n",
              "    <tr>\n",
              "      <th>2</th>\n",
              "      <td>1</td>\n",
              "      <td>999</td>\n",
              "      <td>0</td>\n",
              "      <td>1.1</td>\n",
              "      <td>93.994</td>\n",
              "      <td>-36.4</td>\n",
              "      <td>5191.0</td>\n",
              "      <td>37</td>\n",
              "      <td>4.857</td>\n",
              "      <td>0</td>\n",
              "      <td>...</td>\n",
              "      <td>0</td>\n",
              "      <td>0</td>\n",
              "      <td>1</td>\n",
              "      <td>0</td>\n",
              "      <td>0</td>\n",
              "      <td>0</td>\n",
              "      <td>0</td>\n",
              "      <td>1</td>\n",
              "      <td>0</td>\n",
              "      <td>0</td>\n",
              "    </tr>\n",
              "    <tr>\n",
              "      <th>3</th>\n",
              "      <td>1</td>\n",
              "      <td>999</td>\n",
              "      <td>0</td>\n",
              "      <td>1.1</td>\n",
              "      <td>93.994</td>\n",
              "      <td>-36.4</td>\n",
              "      <td>5191.0</td>\n",
              "      <td>40</td>\n",
              "      <td>4.857</td>\n",
              "      <td>1</td>\n",
              "      <td>...</td>\n",
              "      <td>0</td>\n",
              "      <td>0</td>\n",
              "      <td>1</td>\n",
              "      <td>0</td>\n",
              "      <td>0</td>\n",
              "      <td>0</td>\n",
              "      <td>0</td>\n",
              "      <td>1</td>\n",
              "      <td>0</td>\n",
              "      <td>0</td>\n",
              "    </tr>\n",
              "    <tr>\n",
              "      <th>4</th>\n",
              "      <td>1</td>\n",
              "      <td>999</td>\n",
              "      <td>0</td>\n",
              "      <td>1.1</td>\n",
              "      <td>93.994</td>\n",
              "      <td>-36.4</td>\n",
              "      <td>5191.0</td>\n",
              "      <td>56</td>\n",
              "      <td>4.857</td>\n",
              "      <td>0</td>\n",
              "      <td>...</td>\n",
              "      <td>0</td>\n",
              "      <td>0</td>\n",
              "      <td>1</td>\n",
              "      <td>0</td>\n",
              "      <td>0</td>\n",
              "      <td>0</td>\n",
              "      <td>0</td>\n",
              "      <td>1</td>\n",
              "      <td>0</td>\n",
              "      <td>0</td>\n",
              "    </tr>\n",
              "    <tr>\n",
              "      <th>5</th>\n",
              "      <td>1</td>\n",
              "      <td>999</td>\n",
              "      <td>0</td>\n",
              "      <td>1.1</td>\n",
              "      <td>93.994</td>\n",
              "      <td>-36.4</td>\n",
              "      <td>5191.0</td>\n",
              "      <td>45</td>\n",
              "      <td>4.857</td>\n",
              "      <td>0</td>\n",
              "      <td>...</td>\n",
              "      <td>0</td>\n",
              "      <td>0</td>\n",
              "      <td>1</td>\n",
              "      <td>0</td>\n",
              "      <td>0</td>\n",
              "      <td>0</td>\n",
              "      <td>0</td>\n",
              "      <td>1</td>\n",
              "      <td>0</td>\n",
              "      <td>0</td>\n",
              "    </tr>\n",
              "  </tbody>\n",
              "</table>\n",
              "<p>6 rows × 61 columns</p>\n",
              "</div>\n",
              "      <button class=\"colab-df-convert\" onclick=\"convertToInteractive('df-47cb67f1-f8e2-4ba1-bfd1-7d9bd2ec4092')\"\n",
              "              title=\"Convert this dataframe to an interactive table.\"\n",
              "              style=\"display:none;\">\n",
              "        \n",
              "  <svg xmlns=\"http://www.w3.org/2000/svg\" height=\"24px\"viewBox=\"0 0 24 24\"\n",
              "       width=\"24px\">\n",
              "    <path d=\"M0 0h24v24H0V0z\" fill=\"none\"/>\n",
              "    <path d=\"M18.56 5.44l.94 2.06.94-2.06 2.06-.94-2.06-.94-.94-2.06-.94 2.06-2.06.94zm-11 1L8.5 8.5l.94-2.06 2.06-.94-2.06-.94L8.5 2.5l-.94 2.06-2.06.94zm10 10l.94 2.06.94-2.06 2.06-.94-2.06-.94-.94-2.06-.94 2.06-2.06.94z\"/><path d=\"M17.41 7.96l-1.37-1.37c-.4-.4-.92-.59-1.43-.59-.52 0-1.04.2-1.43.59L10.3 9.45l-7.72 7.72c-.78.78-.78 2.05 0 2.83L4 21.41c.39.39.9.59 1.41.59.51 0 1.02-.2 1.41-.59l7.78-7.78 2.81-2.81c.8-.78.8-2.07 0-2.86zM5.41 20L4 18.59l7.72-7.72 1.47 1.35L5.41 20z\"/>\n",
              "  </svg>\n",
              "      </button>\n",
              "      \n",
              "  <style>\n",
              "    .colab-df-container {\n",
              "      display:flex;\n",
              "      flex-wrap:wrap;\n",
              "      gap: 12px;\n",
              "    }\n",
              "\n",
              "    .colab-df-convert {\n",
              "      background-color: #E8F0FE;\n",
              "      border: none;\n",
              "      border-radius: 50%;\n",
              "      cursor: pointer;\n",
              "      display: none;\n",
              "      fill: #1967D2;\n",
              "      height: 32px;\n",
              "      padding: 0 0 0 0;\n",
              "      width: 32px;\n",
              "    }\n",
              "\n",
              "    .colab-df-convert:hover {\n",
              "      background-color: #E2EBFA;\n",
              "      box-shadow: 0px 1px 2px rgba(60, 64, 67, 0.3), 0px 1px 3px 1px rgba(60, 64, 67, 0.15);\n",
              "      fill: #174EA6;\n",
              "    }\n",
              "\n",
              "    [theme=dark] .colab-df-convert {\n",
              "      background-color: #3B4455;\n",
              "      fill: #D2E3FC;\n",
              "    }\n",
              "\n",
              "    [theme=dark] .colab-df-convert:hover {\n",
              "      background-color: #434B5C;\n",
              "      box-shadow: 0px 1px 3px 1px rgba(0, 0, 0, 0.15);\n",
              "      filter: drop-shadow(0px 1px 2px rgba(0, 0, 0, 0.3));\n",
              "      fill: #FFFFFF;\n",
              "    }\n",
              "  </style>\n",
              "\n",
              "      <script>\n",
              "        const buttonEl =\n",
              "          document.querySelector('#df-47cb67f1-f8e2-4ba1-bfd1-7d9bd2ec4092 button.colab-df-convert');\n",
              "        buttonEl.style.display =\n",
              "          google.colab.kernel.accessAllowed ? 'block' : 'none';\n",
              "\n",
              "        async function convertToInteractive(key) {\n",
              "          const element = document.querySelector('#df-47cb67f1-f8e2-4ba1-bfd1-7d9bd2ec4092');\n",
              "          const dataTable =\n",
              "            await google.colab.kernel.invokeFunction('convertToInteractive',\n",
              "                                                     [key], {});\n",
              "          if (!dataTable) return;\n",
              "\n",
              "          const docLinkHtml = 'Like what you see? Visit the ' +\n",
              "            '<a target=\"_blank\" href=https://colab.research.google.com/notebooks/data_table.ipynb>data table notebook</a>'\n",
              "            + ' to learn more about interactive tables.';\n",
              "          element.innerHTML = '';\n",
              "          dataTable['output_type'] = 'display_data';\n",
              "          await google.colab.output.renderOutput(dataTable, element);\n",
              "          const docLink = document.createElement('div');\n",
              "          docLink.innerHTML = docLinkHtml;\n",
              "          element.appendChild(docLink);\n",
              "        }\n",
              "      </script>\n",
              "    </div>\n",
              "  </div>\n",
              "  "
            ]
          },
          "metadata": {},
          "execution_count": 65
        }
      ]
    },
    {
      "cell_type": "code",
      "source": [
        "#shuffle the samples\n",
        "df_data = df_data.sample(n = len(df_data), random_state = 42)\n",
        "df_data = df_data.reset_index(drop = True)\n",
        "df_valid_test=df_data.sample(frac=0.10,random_state=42)\n",
        "print('Split size: %.3f'%(len(df_valid_test)/len(df_data)))"
      ],
      "metadata": {
        "colab": {
          "base_uri": "https://localhost:8080/"
        },
        "id": "oqTrfvTMCW9d",
        "outputId": "65a59970-6ecd-4dd8-acf5-d24bdad110c7"
      },
      "execution_count": null,
      "outputs": [
        {
          "output_type": "stream",
          "name": "stdout",
          "text": [
            "Split size: 0.100\n"
          ]
        }
      ]
    },
    {
      "cell_type": "code",
      "source": [
        "df_test = df_valid_test.sample(frac = 0.5, random_state = 42)\n",
        "df_valid = df_valid_test.drop(df_test.index)\n",
        "#use the rest of the data as training data\n",
        "df_train_all=df_data.drop(df_valid_test.index)\n",
        "# check the prevalence of each \n",
        "print('Test prevalence(n = %d):%.3f'%(len(df_test),calc_prevalence(df_test.OUTPUT_LABEL.values)))\n",
        "print('Valid prevalence(n = %d):%.3f'%(len(df_valid),calc_prevalence(df_valid.OUTPUT_LABEL.values)))\n",
        "print('Train all prevalence(n = %d):%.3f'%(len(df_train_all), calc_prevalence(df_train_all.OUTPUT_LABEL.values)))"
      ],
      "metadata": {
        "colab": {
          "base_uri": "https://localhost:8080/"
        },
        "id": "OXWZFio7ChF0",
        "outputId": "ed18944d-c6af-4e20-e508-ab6917d5c00d"
      },
      "execution_count": null,
      "outputs": [
        {
          "output_type": "stream",
          "name": "stdout",
          "text": [
            "Test prevalence(n = 2060):0.116\n",
            "Valid prevalence(n = 2059):0.119\n",
            "Train all prevalence(n = 37069):0.112\n"
          ]
        }
      ]
    },
    {
      "cell_type": "code",
      "source": [
        "# split the training data into positive and negative\n",
        "rows_pos = df_train_all.OUTPUT_LABEL == 1\n",
        "df_train_pos = df_train_all.loc[rows_pos]\n",
        "df_train_neg = df_train_all.loc[~rows_pos]\n",
        "\n",
        "# merge the balanced data\n",
        "df_train = pd.concat([df_train_pos, df_train_neg.sample(n = len(df_train_pos), random_state = 42)],axis = 0)\n",
        "\n",
        "# shuffle the order of training samples \n",
        "df_train = df_train.sample(n = len(df_train), random_state = 42).reset_index(drop = True)\n",
        "\n",
        "print('Train balanced prevalence(n = %d):%.3f'%(len(df_train), calc_prevalence(df_train.OUTPUT_LABEL.values)))"
      ],
      "metadata": {
        "colab": {
          "base_uri": "https://localhost:8080/"
        },
        "id": "gljZe4A2CyBk",
        "outputId": "f8180c25-382b-4270-af61-7c0553c51c6f"
      },
      "execution_count": null,
      "outputs": [
        {
          "output_type": "stream",
          "name": "stdout",
          "text": [
            "Train balanced prevalence(n = 8310):0.500\n"
          ]
        }
      ]
    },
    {
      "cell_type": "code",
      "source": [
        "# split the validation into positive and negative\n",
        "rows_pos = df_valid.OUTPUT_LABEL == 1\n",
        "df_valid_pos = df_valid.loc[rows_pos]\n",
        "df_valid_neg = df_valid.loc[~rows_pos]\n",
        "\n",
        "# merge the balanced data\n",
        "df_valid = pd.concat([df_valid_pos, df_valid_neg.sample(n = len(df_valid_pos), random_state = 42)],axis = 0)\n",
        "\n",
        "# shuffle the order of training samples \n",
        "df_valid = df_valid.sample(n = len(df_valid), random_state = 42).reset_index(drop = True)\n",
        "\n",
        "print('Valid balanced prevalence(n = %d):%.3f'%(len(df_valid), calc_prevalence(df_train.OUTPUT_LABEL.values)))"
      ],
      "metadata": {
        "colab": {
          "base_uri": "https://localhost:8080/"
        },
        "id": "lZrUA6whDCjs",
        "outputId": "711d932c-3608-46f2-df34-3fa25de13ebb"
      },
      "execution_count": null,
      "outputs": [
        {
          "output_type": "stream",
          "name": "stdout",
          "text": [
            "Valid balanced prevalence(n = 492):0.500\n"
          ]
        }
      ]
    },
    {
      "cell_type": "code",
      "source": [
        "# split the test into positive and negative\n",
        "rows_pos = df_test.OUTPUT_LABEL == 1\n",
        "df_test_pos = df_test.loc[rows_pos]\n",
        "df_test_neg = df_test.loc[~rows_pos]\n",
        "\n",
        "# merge the balanced data\n",
        "df_test = pd.concat([df_test_pos, df_test_neg.sample(n = len(df_test_pos), random_state = 42)],axis = 0)\n",
        "\n",
        "# shuffle the order of training samples \n",
        "df_test = df_test.sample(n = len(df_test), random_state = 42).reset_index(drop = True)\n",
        "\n",
        "print('Test balanced prevalence(n = %d):%.3f'%(len(df_test), calc_prevalence(df_train.OUTPUT_LABEL.values)))"
      ],
      "metadata": {
        "colab": {
          "base_uri": "https://localhost:8080/"
        },
        "id": "w3ERUz6BDJ_V",
        "outputId": "d95759ca-1455-4c78-dfa2-8fc419423adf"
      },
      "execution_count": null,
      "outputs": [
        {
          "output_type": "stream",
          "name": "stdout",
          "text": [
            "Test balanced prevalence(n = 478):0.500\n"
          ]
        }
      ]
    },
    {
      "cell_type": "code",
      "source": [
        "df_train_all.to_csv('df_train_all.csv',index=False)\n",
        "df_train.to_csv('df_train.csv',index=False)\n",
        "df_valid.to_csv('df_valid.csv',index=False)\n",
        "df_test.to_csv('df_test.csv',index=False)"
      ],
      "metadata": {
        "id": "F_-4tcpZDNIQ"
      },
      "execution_count": null,
      "outputs": []
    },
    {
      "cell_type": "code",
      "source": [
        "import pickle\n",
        "pickle.dump(cols_input, open('cols_input.sav', 'wb'))"
      ],
      "metadata": {
        "id": "bo9p66KHF0Eg"
      },
      "execution_count": null,
      "outputs": []
    },
    {
      "cell_type": "code",
      "source": [
        "def fill_my_missing(df, df_mean, col2use):\n",
        "    # This function fills the missing values\n",
        "\n",
        "    # check the columns are present\n",
        "    for c in col2use:\n",
        "        assert c in df.columns, c + ' not in df'\n",
        "        assert c in df_mean.col.values, c+ 'not in df_mean'\n",
        "    \n",
        "    # replace the mean \n",
        "    for c in col2use:\n",
        "        mean_value = df_mean.loc[df_mean.col == c,'mean_val'].values[0]\n",
        "        df[c] = df[c].fillna(mean_value)\n",
        "    return df\n",
        "df_mean = df_train_all[cols_input].mean(axis = 0)\n",
        "# save the means\n",
        "df_mean.to_csv('df_mean.csv',index=True)\n",
        "df_mean_in = pd.read_csv('df_mean.csv', names =['col','mean_val'])\n",
        "df_mean_in.head()"
      ],
      "metadata": {
        "colab": {
          "base_uri": "https://localhost:8080/",
          "height": 206
        },
        "id": "dkxLazebD7_S",
        "outputId": "3c4c69ac-fbdb-4c0c-f505-b1b23de1165c"
      },
      "execution_count": null,
      "outputs": [
        {
          "output_type": "execute_result",
          "data": {
            "text/plain": [
              "            col    mean_val\n",
              "0           NaN    0.000000\n",
              "1      campaign    2.561116\n",
              "2         pdays  962.434730\n",
              "3      previous    0.173029\n",
              "4  emp.var.rate    0.081516"
            ],
            "text/html": [
              "\n",
              "  <div id=\"df-d1c6c5c8-6071-44c5-8a13-f06e3f582f23\">\n",
              "    <div class=\"colab-df-container\">\n",
              "      <div>\n",
              "<style scoped>\n",
              "    .dataframe tbody tr th:only-of-type {\n",
              "        vertical-align: middle;\n",
              "    }\n",
              "\n",
              "    .dataframe tbody tr th {\n",
              "        vertical-align: top;\n",
              "    }\n",
              "\n",
              "    .dataframe thead th {\n",
              "        text-align: right;\n",
              "    }\n",
              "</style>\n",
              "<table border=\"1\" class=\"dataframe\">\n",
              "  <thead>\n",
              "    <tr style=\"text-align: right;\">\n",
              "      <th></th>\n",
              "      <th>col</th>\n",
              "      <th>mean_val</th>\n",
              "    </tr>\n",
              "  </thead>\n",
              "  <tbody>\n",
              "    <tr>\n",
              "      <th>0</th>\n",
              "      <td>NaN</td>\n",
              "      <td>0.000000</td>\n",
              "    </tr>\n",
              "    <tr>\n",
              "      <th>1</th>\n",
              "      <td>campaign</td>\n",
              "      <td>2.561116</td>\n",
              "    </tr>\n",
              "    <tr>\n",
              "      <th>2</th>\n",
              "      <td>pdays</td>\n",
              "      <td>962.434730</td>\n",
              "    </tr>\n",
              "    <tr>\n",
              "      <th>3</th>\n",
              "      <td>previous</td>\n",
              "      <td>0.173029</td>\n",
              "    </tr>\n",
              "    <tr>\n",
              "      <th>4</th>\n",
              "      <td>emp.var.rate</td>\n",
              "      <td>0.081516</td>\n",
              "    </tr>\n",
              "  </tbody>\n",
              "</table>\n",
              "</div>\n",
              "      <button class=\"colab-df-convert\" onclick=\"convertToInteractive('df-d1c6c5c8-6071-44c5-8a13-f06e3f582f23')\"\n",
              "              title=\"Convert this dataframe to an interactive table.\"\n",
              "              style=\"display:none;\">\n",
              "        \n",
              "  <svg xmlns=\"http://www.w3.org/2000/svg\" height=\"24px\"viewBox=\"0 0 24 24\"\n",
              "       width=\"24px\">\n",
              "    <path d=\"M0 0h24v24H0V0z\" fill=\"none\"/>\n",
              "    <path d=\"M18.56 5.44l.94 2.06.94-2.06 2.06-.94-2.06-.94-.94-2.06-.94 2.06-2.06.94zm-11 1L8.5 8.5l.94-2.06 2.06-.94-2.06-.94L8.5 2.5l-.94 2.06-2.06.94zm10 10l.94 2.06.94-2.06 2.06-.94-2.06-.94-.94-2.06-.94 2.06-2.06.94z\"/><path d=\"M17.41 7.96l-1.37-1.37c-.4-.4-.92-.59-1.43-.59-.52 0-1.04.2-1.43.59L10.3 9.45l-7.72 7.72c-.78.78-.78 2.05 0 2.83L4 21.41c.39.39.9.59 1.41.59.51 0 1.02-.2 1.41-.59l7.78-7.78 2.81-2.81c.8-.78.8-2.07 0-2.86zM5.41 20L4 18.59l7.72-7.72 1.47 1.35L5.41 20z\"/>\n",
              "  </svg>\n",
              "      </button>\n",
              "      \n",
              "  <style>\n",
              "    .colab-df-container {\n",
              "      display:flex;\n",
              "      flex-wrap:wrap;\n",
              "      gap: 12px;\n",
              "    }\n",
              "\n",
              "    .colab-df-convert {\n",
              "      background-color: #E8F0FE;\n",
              "      border: none;\n",
              "      border-radius: 50%;\n",
              "      cursor: pointer;\n",
              "      display: none;\n",
              "      fill: #1967D2;\n",
              "      height: 32px;\n",
              "      padding: 0 0 0 0;\n",
              "      width: 32px;\n",
              "    }\n",
              "\n",
              "    .colab-df-convert:hover {\n",
              "      background-color: #E2EBFA;\n",
              "      box-shadow: 0px 1px 2px rgba(60, 64, 67, 0.3), 0px 1px 3px 1px rgba(60, 64, 67, 0.15);\n",
              "      fill: #174EA6;\n",
              "    }\n",
              "\n",
              "    [theme=dark] .colab-df-convert {\n",
              "      background-color: #3B4455;\n",
              "      fill: #D2E3FC;\n",
              "    }\n",
              "\n",
              "    [theme=dark] .colab-df-convert:hover {\n",
              "      background-color: #434B5C;\n",
              "      box-shadow: 0px 1px 3px 1px rgba(0, 0, 0, 0.15);\n",
              "      filter: drop-shadow(0px 1px 2px rgba(0, 0, 0, 0.3));\n",
              "      fill: #FFFFFF;\n",
              "    }\n",
              "  </style>\n",
              "\n",
              "      <script>\n",
              "        const buttonEl =\n",
              "          document.querySelector('#df-d1c6c5c8-6071-44c5-8a13-f06e3f582f23 button.colab-df-convert');\n",
              "        buttonEl.style.display =\n",
              "          google.colab.kernel.accessAllowed ? 'block' : 'none';\n",
              "\n",
              "        async function convertToInteractive(key) {\n",
              "          const element = document.querySelector('#df-d1c6c5c8-6071-44c5-8a13-f06e3f582f23');\n",
              "          const dataTable =\n",
              "            await google.colab.kernel.invokeFunction('convertToInteractive',\n",
              "                                                     [key], {});\n",
              "          if (!dataTable) return;\n",
              "\n",
              "          const docLinkHtml = 'Like what you see? Visit the ' +\n",
              "            '<a target=\"_blank\" href=https://colab.research.google.com/notebooks/data_table.ipynb>data table notebook</a>'\n",
              "            + ' to learn more about interactive tables.';\n",
              "          element.innerHTML = '';\n",
              "          dataTable['output_type'] = 'display_data';\n",
              "          await google.colab.output.renderOutput(dataTable, element);\n",
              "          const docLink = document.createElement('div');\n",
              "          docLink.innerHTML = docLinkHtml;\n",
              "          element.appendChild(docLink);\n",
              "        }\n",
              "      </script>\n",
              "    </div>\n",
              "  </div>\n",
              "  "
            ]
          },
          "metadata": {},
          "execution_count": 73
        }
      ]
    },
    {
      "cell_type": "code",
      "source": [
        "df_train_all = fill_my_missing(df_train_all, df_mean_in, cols_input)\n",
        "df_train = fill_my_missing(df_train, df_mean_in, cols_input)\n",
        "df_valid = fill_my_missing(df_valid, df_mean_in, cols_input)"
      ],
      "metadata": {
        "id": "hYVpicXlEye5"
      },
      "execution_count": null,
      "outputs": []
    },
    {
      "cell_type": "code",
      "source": [
        "# create the X and y matrices\n",
        "X_train = df_train[cols_input].values\n",
        "X_train_all = df_train_all[cols_input].values\n",
        "X_valid = df_valid[cols_input].values\n",
        "\n",
        "y_train = df_train['OUTPUT_LABEL'].values\n",
        "y_valid = df_valid['OUTPUT_LABEL'].values\n",
        "\n",
        "print('Training All shapes:',X_train_all.shape)\n",
        "print('Training shapes:',X_train.shape, y_train.shape)\n",
        "print('Validation shapes:',X_valid.shape, y_valid.shape)"
      ],
      "metadata": {
        "colab": {
          "base_uri": "https://localhost:8080/"
        },
        "id": "2i1cx8JLE1kp",
        "outputId": "4c2b40e3-7b22-441b-c275-0f0f0c6777c8"
      },
      "execution_count": null,
      "outputs": [
        {
          "output_type": "stream",
          "name": "stdout",
          "text": [
            "Training All shapes: (37069, 60)\n",
            "Training shapes: (8310, 60) (8310,)\n",
            "Validation shapes: (492, 60) (492,)\n"
          ]
        }
      ]
    },
    {
      "cell_type": "code",
      "source": [
        "from sklearn.preprocessing import StandardScaler\n",
        "\n",
        "scaler  = StandardScaler()\n",
        "scaler.fit(X_train_all)\n",
        "scalerfile = 'scaler.sav'\n",
        "\n"
      ],
      "metadata": {
        "id": "ZiqzPfQsE-KZ"
      },
      "execution_count": null,
      "outputs": []
    },
    {
      "cell_type": "code",
      "source": [
        "pickle.dump(scaler, open(scalerfile, 'wb'))"
      ],
      "metadata": {
        "id": "_yGmi7RkFcux"
      },
      "execution_count": null,
      "outputs": []
    },
    {
      "cell_type": "code",
      "source": [
        "# load it back\n",
        "scaler = pickle.load(open(scalerfile, 'rb'))\n",
        "# transform our data matrices\n",
        "X_train_tf = scaler.transform(X_train)\n",
        "X_valid_tf = scaler.transform(X_valid)"
      ],
      "metadata": {
        "id": "ynKB_2CzFwgS"
      },
      "execution_count": null,
      "outputs": []
    },
    {
      "cell_type": "code",
      "source": [
        "X_train_tf.size"
      ],
      "metadata": {
        "colab": {
          "base_uri": "https://localhost:8080/"
        },
        "id": "zHofJ4IWMGgo",
        "outputId": "0dbb68d2-5f7c-432f-a3ef-2a7e5284da35"
      },
      "execution_count": null,
      "outputs": [
        {
          "output_type": "execute_result",
          "data": {
            "text/plain": [
              "498600"
            ]
          },
          "metadata": {},
          "execution_count": 79
        }
      ]
    },
    {
      "cell_type": "markdown",
      "source": [
        "Neural network"
      ],
      "metadata": {
        "id": "l8FU9qMSF-fi"
      }
    },
    {
      "cell_type": "code",
      "source": [
        "print(X_train_tf.shape)\n",
        "print(X_valid_tf.shape)\n",
        "print(y_train.shape)\n",
        "print(y_valid.shape)"
      ],
      "metadata": {
        "colab": {
          "base_uri": "https://localhost:8080/"
        },
        "id": "68u3hC0fbxyq",
        "outputId": "9917c825-da4e-438b-ad32-c1e116381ab9"
      },
      "execution_count": null,
      "outputs": [
        {
          "output_type": "stream",
          "name": "stdout",
          "text": [
            "(8310, 60)\n",
            "(492, 60)\n",
            "(8310,)\n",
            "(492,)\n"
          ]
        }
      ]
    },
    {
      "cell_type": "code",
      "source": [
        "model = Sequential()\n",
        "\n",
        "model.add(Dense(16, input_dim=60, activation='relu', name= 'input'))\n",
        "model.add(Dense(32, activation='relu', name= 'hidden_1'))\n",
        "model.add(Dense(64, activation='relu', name= 'hidden_2'))\n",
        "#model.add(Dense(128, activation='relu', name= 'hidden_3'))\n",
        "#model.add(Dense(256,  activation='relu', name= 'hidden_4'))\n",
        "#model.add(Dense(512, activation='relu', name= 'hidden_5'))\n",
        "#model.add(Dense(1028, activation='relu', name= 'hidden_6'))\n",
        "#model.add(Dense(2056, activation='relu', name= 'hidden_7'))\n",
        "model.add(Dense(1, input_dim=62, activation='sigmoid', name= 'output'))"
      ],
      "metadata": {
        "id": "qYsGWsNTeNo4"
      },
      "execution_count": null,
      "outputs": []
    },
    {
      "cell_type": "code",
      "source": [
        "opt = Adam(learning_rate= 0.001)\n",
        "model.compile(optimizer='adam', loss='binary_crossentropy', metrics= ['accuracy'])"
      ],
      "metadata": {
        "id": "wA84ybOvg33Z"
      },
      "execution_count": null,
      "outputs": []
    },
    {
      "cell_type": "code",
      "source": [
        "print(model.summary())"
      ],
      "metadata": {
        "colab": {
          "base_uri": "https://localhost:8080/"
        },
        "id": "T7oM4_TDg7Vg",
        "outputId": "6a82f6db-34d0-4c3c-d57c-b1dc29ba5fd3"
      },
      "execution_count": null,
      "outputs": [
        {
          "output_type": "stream",
          "name": "stdout",
          "text": [
            "Model: \"sequential_1\"\n",
            "_________________________________________________________________\n",
            " Layer (type)                Output Shape              Param #   \n",
            "=================================================================\n",
            " input (Dense)               (None, 16)                976       \n",
            "                                                                 \n",
            " hidden_1 (Dense)            (None, 32)                544       \n",
            "                                                                 \n",
            " hidden_2 (Dense)            (None, 64)                2112      \n",
            "                                                                 \n",
            " output (Dense)              (None, 1)                 65        \n",
            "                                                                 \n",
            "=================================================================\n",
            "Total params: 3,697\n",
            "Trainable params: 3,697\n",
            "Non-trainable params: 0\n",
            "_________________________________________________________________\n",
            "None\n"
          ]
        }
      ]
    },
    {
      "cell_type": "code",
      "source": [
        "training_results = model.fit(X_train_tf, y_train, verbose=1, batch_size=175, epochs=100 , validation_data= (X_valid_tf,y_valid)) "
      ],
      "metadata": {
        "colab": {
          "base_uri": "https://localhost:8080/"
        },
        "id": "xeZWjXpbhLXt",
        "outputId": "422ad8b5-6b3e-41a9-8eca-53f334521f14"
      },
      "execution_count": null,
      "outputs": [
        {
          "output_type": "stream",
          "name": "stdout",
          "text": [
            "Epoch 1/100\n",
            "48/48 [==============================] - 1s 6ms/step - loss: 0.6073 - accuracy: 0.6787 - val_loss: 0.5623 - val_accuracy: 0.7093\n",
            "Epoch 2/100\n",
            "48/48 [==============================] - 0s 3ms/step - loss: 0.5613 - accuracy: 0.7241 - val_loss: 0.5417 - val_accuracy: 0.7439\n",
            "Epoch 3/100\n",
            "48/48 [==============================] - 0s 3ms/step - loss: 0.5459 - accuracy: 0.7384 - val_loss: 0.5344 - val_accuracy: 0.7541\n",
            "Epoch 4/100\n",
            "48/48 [==============================] - 0s 4ms/step - loss: 0.5378 - accuracy: 0.7419 - val_loss: 0.5295 - val_accuracy: 0.7439\n",
            "Epoch 5/100\n",
            "48/48 [==============================] - 0s 3ms/step - loss: 0.5311 - accuracy: 0.7446 - val_loss: 0.5294 - val_accuracy: 0.7419\n",
            "Epoch 6/100\n",
            "48/48 [==============================] - 0s 3ms/step - loss: 0.5265 - accuracy: 0.7477 - val_loss: 0.5292 - val_accuracy: 0.7378\n",
            "Epoch 7/100\n",
            "48/48 [==============================] - 0s 3ms/step - loss: 0.5226 - accuracy: 0.7501 - val_loss: 0.5244 - val_accuracy: 0.7398\n",
            "Epoch 8/100\n",
            "48/48 [==============================] - 0s 3ms/step - loss: 0.5195 - accuracy: 0.7504 - val_loss: 0.5253 - val_accuracy: 0.7459\n",
            "Epoch 9/100\n",
            "48/48 [==============================] - 0s 3ms/step - loss: 0.5160 - accuracy: 0.7525 - val_loss: 0.5214 - val_accuracy: 0.7459\n",
            "Epoch 10/100\n",
            "48/48 [==============================] - 0s 4ms/step - loss: 0.5134 - accuracy: 0.7540 - val_loss: 0.5268 - val_accuracy: 0.7419\n",
            "Epoch 11/100\n",
            "48/48 [==============================] - 0s 3ms/step - loss: 0.5113 - accuracy: 0.7557 - val_loss: 0.5197 - val_accuracy: 0.7439\n",
            "Epoch 12/100\n",
            "48/48 [==============================] - 0s 3ms/step - loss: 0.5081 - accuracy: 0.7566 - val_loss: 0.5258 - val_accuracy: 0.7459\n",
            "Epoch 13/100\n",
            "48/48 [==============================] - 0s 4ms/step - loss: 0.5056 - accuracy: 0.7582 - val_loss: 0.5283 - val_accuracy: 0.7419\n",
            "Epoch 14/100\n",
            "48/48 [==============================] - 0s 3ms/step - loss: 0.5037 - accuracy: 0.7590 - val_loss: 0.5328 - val_accuracy: 0.7419\n",
            "Epoch 15/100\n",
            "48/48 [==============================] - 0s 4ms/step - loss: 0.5011 - accuracy: 0.7616 - val_loss: 0.5243 - val_accuracy: 0.7480\n",
            "Epoch 16/100\n",
            "48/48 [==============================] - 0s 3ms/step - loss: 0.4992 - accuracy: 0.7591 - val_loss: 0.5180 - val_accuracy: 0.7419\n",
            "Epoch 17/100\n",
            "48/48 [==============================] - 0s 3ms/step - loss: 0.4979 - accuracy: 0.7626 - val_loss: 0.5232 - val_accuracy: 0.7459\n",
            "Epoch 18/100\n",
            "48/48 [==============================] - 0s 3ms/step - loss: 0.4948 - accuracy: 0.7625 - val_loss: 0.5250 - val_accuracy: 0.7541\n",
            "Epoch 19/100\n",
            "48/48 [==============================] - 0s 3ms/step - loss: 0.4938 - accuracy: 0.7629 - val_loss: 0.5224 - val_accuracy: 0.7459\n",
            "Epoch 20/100\n",
            "48/48 [==============================] - 0s 3ms/step - loss: 0.4916 - accuracy: 0.7634 - val_loss: 0.5231 - val_accuracy: 0.7520\n",
            "Epoch 21/100\n",
            "48/48 [==============================] - 0s 3ms/step - loss: 0.4900 - accuracy: 0.7632 - val_loss: 0.5188 - val_accuracy: 0.7520\n",
            "Epoch 22/100\n",
            "48/48 [==============================] - 0s 3ms/step - loss: 0.4893 - accuracy: 0.7662 - val_loss: 0.5235 - val_accuracy: 0.7480\n",
            "Epoch 23/100\n",
            "48/48 [==============================] - 0s 3ms/step - loss: 0.4865 - accuracy: 0.7663 - val_loss: 0.5230 - val_accuracy: 0.7439\n",
            "Epoch 24/100\n",
            "48/48 [==============================] - 0s 3ms/step - loss: 0.4865 - accuracy: 0.7690 - val_loss: 0.5234 - val_accuracy: 0.7459\n",
            "Epoch 25/100\n",
            "48/48 [==============================] - 0s 3ms/step - loss: 0.4849 - accuracy: 0.7665 - val_loss: 0.5296 - val_accuracy: 0.7500\n",
            "Epoch 26/100\n",
            "48/48 [==============================] - 0s 3ms/step - loss: 0.4820 - accuracy: 0.7673 - val_loss: 0.5284 - val_accuracy: 0.7602\n",
            "Epoch 27/100\n",
            "48/48 [==============================] - 0s 3ms/step - loss: 0.4804 - accuracy: 0.7682 - val_loss: 0.5260 - val_accuracy: 0.7480\n",
            "Epoch 28/100\n",
            "48/48 [==============================] - 0s 3ms/step - loss: 0.4794 - accuracy: 0.7703 - val_loss: 0.5281 - val_accuracy: 0.7439\n",
            "Epoch 29/100\n",
            "48/48 [==============================] - 0s 3ms/step - loss: 0.4760 - accuracy: 0.7732 - val_loss: 0.5317 - val_accuracy: 0.7459\n",
            "Epoch 30/100\n",
            "48/48 [==============================] - 0s 3ms/step - loss: 0.4757 - accuracy: 0.7721 - val_loss: 0.5338 - val_accuracy: 0.7398\n",
            "Epoch 31/100\n",
            "48/48 [==============================] - 0s 3ms/step - loss: 0.4744 - accuracy: 0.7715 - val_loss: 0.5282 - val_accuracy: 0.7358\n",
            "Epoch 32/100\n",
            "48/48 [==============================] - 0s 3ms/step - loss: 0.4715 - accuracy: 0.7746 - val_loss: 0.5391 - val_accuracy: 0.7398\n",
            "Epoch 33/100\n",
            "48/48 [==============================] - 0s 4ms/step - loss: 0.4718 - accuracy: 0.7752 - val_loss: 0.5298 - val_accuracy: 0.7358\n",
            "Epoch 34/100\n",
            "48/48 [==============================] - 0s 3ms/step - loss: 0.4701 - accuracy: 0.7748 - val_loss: 0.5365 - val_accuracy: 0.7317\n",
            "Epoch 35/100\n",
            "48/48 [==============================] - 0s 3ms/step - loss: 0.4672 - accuracy: 0.7771 - val_loss: 0.5401 - val_accuracy: 0.7337\n",
            "Epoch 36/100\n",
            "48/48 [==============================] - 0s 3ms/step - loss: 0.4664 - accuracy: 0.7773 - val_loss: 0.5410 - val_accuracy: 0.7358\n",
            "Epoch 37/100\n",
            "48/48 [==============================] - 0s 3ms/step - loss: 0.4674 - accuracy: 0.7761 - val_loss: 0.5366 - val_accuracy: 0.7297\n",
            "Epoch 38/100\n",
            "48/48 [==============================] - 0s 3ms/step - loss: 0.4628 - accuracy: 0.7775 - val_loss: 0.5585 - val_accuracy: 0.7337\n",
            "Epoch 39/100\n",
            "48/48 [==============================] - 0s 3ms/step - loss: 0.4613 - accuracy: 0.7810 - val_loss: 0.5405 - val_accuracy: 0.7195\n",
            "Epoch 40/100\n",
            "48/48 [==============================] - 0s 3ms/step - loss: 0.4591 - accuracy: 0.7839 - val_loss: 0.5454 - val_accuracy: 0.7256\n",
            "Epoch 41/100\n",
            "48/48 [==============================] - 0s 3ms/step - loss: 0.4596 - accuracy: 0.7818 - val_loss: 0.5403 - val_accuracy: 0.7236\n",
            "Epoch 42/100\n",
            "48/48 [==============================] - 0s 3ms/step - loss: 0.4592 - accuracy: 0.7801 - val_loss: 0.5439 - val_accuracy: 0.7297\n",
            "Epoch 43/100\n",
            "48/48 [==============================] - 0s 3ms/step - loss: 0.4563 - accuracy: 0.7815 - val_loss: 0.5424 - val_accuracy: 0.7317\n",
            "Epoch 44/100\n",
            "48/48 [==============================] - 0s 3ms/step - loss: 0.4550 - accuracy: 0.7830 - val_loss: 0.5476 - val_accuracy: 0.7378\n",
            "Epoch 45/100\n",
            "48/48 [==============================] - 0s 3ms/step - loss: 0.4553 - accuracy: 0.7812 - val_loss: 0.5495 - val_accuracy: 0.7276\n",
            "Epoch 46/100\n",
            "48/48 [==============================] - 0s 3ms/step - loss: 0.4530 - accuracy: 0.7832 - val_loss: 0.5477 - val_accuracy: 0.7236\n",
            "Epoch 47/100\n",
            "48/48 [==============================] - 0s 3ms/step - loss: 0.4523 - accuracy: 0.7856 - val_loss: 0.5430 - val_accuracy: 0.7276\n",
            "Epoch 48/100\n",
            "48/48 [==============================] - 0s 3ms/step - loss: 0.4483 - accuracy: 0.7862 - val_loss: 0.5582 - val_accuracy: 0.7337\n",
            "Epoch 49/100\n",
            "48/48 [==============================] - 0s 3ms/step - loss: 0.4486 - accuracy: 0.7888 - val_loss: 0.5483 - val_accuracy: 0.7317\n",
            "Epoch 50/100\n",
            "48/48 [==============================] - 0s 3ms/step - loss: 0.4477 - accuracy: 0.7877 - val_loss: 0.5614 - val_accuracy: 0.7297\n",
            "Epoch 51/100\n",
            "48/48 [==============================] - 0s 3ms/step - loss: 0.4454 - accuracy: 0.7863 - val_loss: 0.5600 - val_accuracy: 0.7317\n",
            "Epoch 52/100\n",
            "48/48 [==============================] - 0s 3ms/step - loss: 0.4448 - accuracy: 0.7888 - val_loss: 0.5564 - val_accuracy: 0.7114\n",
            "Epoch 53/100\n",
            "48/48 [==============================] - 0s 3ms/step - loss: 0.4429 - accuracy: 0.7899 - val_loss: 0.5608 - val_accuracy: 0.7195\n",
            "Epoch 54/100\n",
            "48/48 [==============================] - 0s 3ms/step - loss: 0.4437 - accuracy: 0.7919 - val_loss: 0.5623 - val_accuracy: 0.7276\n",
            "Epoch 55/100\n",
            "48/48 [==============================] - 0s 3ms/step - loss: 0.4414 - accuracy: 0.7903 - val_loss: 0.5605 - val_accuracy: 0.7256\n",
            "Epoch 56/100\n",
            "48/48 [==============================] - 0s 3ms/step - loss: 0.4398 - accuracy: 0.7907 - val_loss: 0.5601 - val_accuracy: 0.7256\n",
            "Epoch 57/100\n",
            "48/48 [==============================] - 0s 3ms/step - loss: 0.4391 - accuracy: 0.7909 - val_loss: 0.5648 - val_accuracy: 0.7297\n",
            "Epoch 58/100\n",
            "48/48 [==============================] - 0s 3ms/step - loss: 0.4375 - accuracy: 0.7937 - val_loss: 0.5651 - val_accuracy: 0.7337\n",
            "Epoch 59/100\n",
            "48/48 [==============================] - 0s 3ms/step - loss: 0.4375 - accuracy: 0.7957 - val_loss: 0.5645 - val_accuracy: 0.7378\n",
            "Epoch 60/100\n",
            "48/48 [==============================] - 0s 3ms/step - loss: 0.4352 - accuracy: 0.7941 - val_loss: 0.5698 - val_accuracy: 0.7236\n",
            "Epoch 61/100\n",
            "48/48 [==============================] - 0s 4ms/step - loss: 0.4359 - accuracy: 0.7925 - val_loss: 0.5787 - val_accuracy: 0.7358\n",
            "Epoch 62/100\n",
            "48/48 [==============================] - 0s 4ms/step - loss: 0.4345 - accuracy: 0.7930 - val_loss: 0.5690 - val_accuracy: 0.7317\n",
            "Epoch 63/100\n",
            "48/48 [==============================] - 0s 3ms/step - loss: 0.4311 - accuracy: 0.7955 - val_loss: 0.5902 - val_accuracy: 0.7256\n",
            "Epoch 64/100\n",
            "48/48 [==============================] - 0s 3ms/step - loss: 0.4311 - accuracy: 0.7995 - val_loss: 0.5726 - val_accuracy: 0.7256\n",
            "Epoch 65/100\n",
            "48/48 [==============================] - 0s 3ms/step - loss: 0.4294 - accuracy: 0.7986 - val_loss: 0.5795 - val_accuracy: 0.7317\n",
            "Epoch 66/100\n",
            "48/48 [==============================] - 0s 3ms/step - loss: 0.4288 - accuracy: 0.7987 - val_loss: 0.5776 - val_accuracy: 0.7215\n",
            "Epoch 67/100\n",
            "48/48 [==============================] - 0s 3ms/step - loss: 0.4276 - accuracy: 0.7996 - val_loss: 0.5793 - val_accuracy: 0.7297\n",
            "Epoch 68/100\n",
            "48/48 [==============================] - 0s 3ms/step - loss: 0.4267 - accuracy: 0.7986 - val_loss: 0.5782 - val_accuracy: 0.7317\n",
            "Epoch 69/100\n",
            "48/48 [==============================] - 0s 4ms/step - loss: 0.4251 - accuracy: 0.7980 - val_loss: 0.5802 - val_accuracy: 0.7276\n",
            "Epoch 70/100\n",
            "48/48 [==============================] - 0s 3ms/step - loss: 0.4244 - accuracy: 0.8026 - val_loss: 0.5825 - val_accuracy: 0.7175\n",
            "Epoch 71/100\n",
            "48/48 [==============================] - 0s 3ms/step - loss: 0.4249 - accuracy: 0.7992 - val_loss: 0.5827 - val_accuracy: 0.7276\n",
            "Epoch 72/100\n",
            "48/48 [==============================] - 0s 3ms/step - loss: 0.4219 - accuracy: 0.8042 - val_loss: 0.5774 - val_accuracy: 0.7297\n",
            "Epoch 73/100\n",
            "48/48 [==============================] - 0s 3ms/step - loss: 0.4212 - accuracy: 0.8022 - val_loss: 0.5890 - val_accuracy: 0.7215\n",
            "Epoch 74/100\n",
            "48/48 [==============================] - 0s 3ms/step - loss: 0.4195 - accuracy: 0.8057 - val_loss: 0.5840 - val_accuracy: 0.7297\n",
            "Epoch 75/100\n",
            "48/48 [==============================] - 0s 3ms/step - loss: 0.4196 - accuracy: 0.8049 - val_loss: 0.5856 - val_accuracy: 0.7297\n",
            "Epoch 76/100\n",
            "48/48 [==============================] - 0s 3ms/step - loss: 0.4174 - accuracy: 0.8042 - val_loss: 0.5922 - val_accuracy: 0.7154\n",
            "Epoch 77/100\n",
            "48/48 [==============================] - 0s 3ms/step - loss: 0.4177 - accuracy: 0.8076 - val_loss: 0.5884 - val_accuracy: 0.7215\n",
            "Epoch 78/100\n",
            "48/48 [==============================] - 0s 3ms/step - loss: 0.4160 - accuracy: 0.8060 - val_loss: 0.5954 - val_accuracy: 0.7236\n",
            "Epoch 79/100\n",
            "48/48 [==============================] - 0s 3ms/step - loss: 0.4175 - accuracy: 0.8034 - val_loss: 0.6024 - val_accuracy: 0.7215\n",
            "Epoch 80/100\n",
            "48/48 [==============================] - 0s 3ms/step - loss: 0.4167 - accuracy: 0.8036 - val_loss: 0.6005 - val_accuracy: 0.7256\n",
            "Epoch 81/100\n",
            "48/48 [==============================] - 0s 3ms/step - loss: 0.4134 - accuracy: 0.8069 - val_loss: 0.6010 - val_accuracy: 0.7175\n",
            "Epoch 82/100\n",
            "48/48 [==============================] - 0s 3ms/step - loss: 0.4137 - accuracy: 0.8059 - val_loss: 0.5941 - val_accuracy: 0.7276\n",
            "Epoch 83/100\n",
            "48/48 [==============================] - 0s 4ms/step - loss: 0.4120 - accuracy: 0.8087 - val_loss: 0.6016 - val_accuracy: 0.7297\n",
            "Epoch 84/100\n",
            "48/48 [==============================] - 0s 3ms/step - loss: 0.4111 - accuracy: 0.8077 - val_loss: 0.6099 - val_accuracy: 0.7276\n",
            "Epoch 85/100\n",
            "48/48 [==============================] - 0s 3ms/step - loss: 0.4096 - accuracy: 0.8081 - val_loss: 0.6030 - val_accuracy: 0.7154\n",
            "Epoch 86/100\n",
            "48/48 [==============================] - 0s 3ms/step - loss: 0.4106 - accuracy: 0.8093 - val_loss: 0.6108 - val_accuracy: 0.7236\n",
            "Epoch 87/100\n",
            "48/48 [==============================] - 0s 3ms/step - loss: 0.4080 - accuracy: 0.8105 - val_loss: 0.6118 - val_accuracy: 0.7297\n",
            "Epoch 88/100\n",
            "48/48 [==============================] - 0s 3ms/step - loss: 0.4093 - accuracy: 0.8094 - val_loss: 0.6028 - val_accuracy: 0.7297\n",
            "Epoch 89/100\n",
            "48/48 [==============================] - 0s 3ms/step - loss: 0.4082 - accuracy: 0.8088 - val_loss: 0.6137 - val_accuracy: 0.7215\n",
            "Epoch 90/100\n",
            "48/48 [==============================] - 0s 3ms/step - loss: 0.4074 - accuracy: 0.8110 - val_loss: 0.6170 - val_accuracy: 0.7154\n",
            "Epoch 91/100\n",
            "48/48 [==============================] - 0s 3ms/step - loss: 0.4059 - accuracy: 0.8128 - val_loss: 0.6087 - val_accuracy: 0.7297\n",
            "Epoch 92/100\n",
            "48/48 [==============================] - 0s 3ms/step - loss: 0.4035 - accuracy: 0.8111 - val_loss: 0.6330 - val_accuracy: 0.7195\n",
            "Epoch 93/100\n",
            "48/48 [==============================] - 0s 3ms/step - loss: 0.4038 - accuracy: 0.8138 - val_loss: 0.6128 - val_accuracy: 0.7175\n",
            "Epoch 94/100\n",
            "48/48 [==============================] - 0s 3ms/step - loss: 0.4020 - accuracy: 0.8142 - val_loss: 0.6140 - val_accuracy: 0.7256\n",
            "Epoch 95/100\n",
            "48/48 [==============================] - 0s 3ms/step - loss: 0.4021 - accuracy: 0.8158 - val_loss: 0.6146 - val_accuracy: 0.7358\n",
            "Epoch 96/100\n",
            "48/48 [==============================] - 0s 3ms/step - loss: 0.4011 - accuracy: 0.8143 - val_loss: 0.6167 - val_accuracy: 0.7337\n",
            "Epoch 97/100\n",
            "48/48 [==============================] - 0s 3ms/step - loss: 0.4010 - accuracy: 0.8134 - val_loss: 0.6227 - val_accuracy: 0.7215\n",
            "Epoch 98/100\n",
            "48/48 [==============================] - 0s 3ms/step - loss: 0.3990 - accuracy: 0.8160 - val_loss: 0.6169 - val_accuracy: 0.7276\n",
            "Epoch 99/100\n",
            "48/48 [==============================] - 0s 3ms/step - loss: 0.4001 - accuracy: 0.8156 - val_loss: 0.6138 - val_accuracy: 0.7398\n",
            "Epoch 100/100\n",
            "48/48 [==============================] - 0s 3ms/step - loss: 0.3972 - accuracy: 0.8176 - val_loss: 0.6216 - val_accuracy: 0.7236\n"
          ]
        }
      ]
    },
    {
      "cell_type": "code",
      "source": [
        "# list all data in history\n",
        "print(training_results.history.keys())\n",
        "#summarize history for accuracy\n",
        "#plt.figure(figsize=(20,20))\n",
        "plt.plot(training_results.history['accuracy'])\n",
        "plt.plot(training_results.history['val_accuracy'])\n",
        "plt.title('model accuracy')\n",
        "plt.ylabel('accuracy')\n",
        "plt.xlabel('epoch')\n",
        "plt.legend(['train', 'test'], loc='upper left')\n",
        "plt.show()\n",
        "# summarize history for loss\n",
        "plt.plot(training_results.history['loss'])\n",
        "plt.plot(training_results.history['val_loss'])\n",
        "plt.title('model loss')\n",
        "plt.ylabel('loss')\n",
        "plt.xlabel('epoch')\n",
        "plt.legend(['train', 'test'], loc='upper left')\n",
        "plt.show()"
      ],
      "metadata": {
        "colab": {
          "base_uri": "https://localhost:8080/",
          "height": 590
        },
        "id": "_yzMkcF4DOus",
        "outputId": "2446dd55-fa17-4892-d964-c3b7de4aaa18"
      },
      "execution_count": null,
      "outputs": [
        {
          "output_type": "stream",
          "name": "stdout",
          "text": [
            "dict_keys(['loss', 'accuracy', 'val_loss', 'val_accuracy'])\n"
          ]
        },
        {
          "output_type": "display_data",
          "data": {
            "text/plain": [
              "<Figure size 432x288 with 1 Axes>"
            ],
            "image/png": "[encoded data removed]"
          },
          "metadata": {
            "needs_background": "light"
          }
        },
        {
          "output_type": "display_data",
          "data": {
            "text/plain": [
              "<Figure size 432x288 with 1 Axes>"
            ],
            "image/png": "[encoded data removed]"
          },
          "metadata": {
            "needs_background": "light"
          }
        }
      ]
    },
    {
      "cell_type": "code",
      "source": [
        "cols_input = pickle.load(open('cols_input.sav','rb'))\n",
        "df_mean_in = pd.read_csv('df_mean.csv', names =['col','mean_val'])\n",
        "scaler = pickle.load(open('scaler.sav', 'rb'))"
      ],
      "metadata": {
        "id": "_HoRA8V1Lnj4"
      },
      "execution_count": null,
      "outputs": []
    },
    {
      "cell_type": "code",
      "source": [
        "df_test= pd.read_csv('df_test.csv')\n",
        "df_test = fill_my_missing(df_test, df_mean_in, cols_input)\n",
        "X_test = df_test[cols_input].values\n",
        "y_test = df_test['OUTPUT_LABEL'].values\n",
        "X_test_tf = scaler.transform(X_test)\n"
      ],
      "metadata": {
        "id": "qeFe3dggLyG3"
      },
      "execution_count": null,
      "outputs": []
    },
    {
      "cell_type": "code",
      "source": [
        "results = model.evaluate(X_test_tf, y_test)\n",
        "results"
      ],
      "metadata": {
        "colab": {
          "base_uri": "https://localhost:8080/"
        },
        "id": "-FLnDINCDq-G",
        "outputId": "ef6fe4ab-e90f-4c83-aaaa-b1c93ea19173"
      },
      "execution_count": null,
      "outputs": [
        {
          "output_type": "stream",
          "name": "stdout",
          "text": [
            "15/15 [==============================] - 0s 2ms/step - loss: 0.6804 - accuracy: 0.6841\n"
          ]
        },
        {
          "output_type": "execute_result",
          "data": {
            "text/plain": [
              "[0.6804142594337463, 0.6841003894805908]"
            ]
          },
          "metadata": {},
          "execution_count": 88
        }
      ]
    },
    {
      "cell_type": "code",
      "source": [
        "from IPython.display import SVG\n",
        "from keras.utils.vis_utils import model_to_dot\n",
        "from keras.utils import plot_model\n",
        "# Visualize network architecture\n",
        "SVG(model_to_dot(model, show_shapes=True).create(prog=\"dot\", format=\"svg\"))"
      ],
      "metadata": {
        "colab": {
          "base_uri": "https://localhost:8080/",
          "height": 709
        },
        "id": "JXFHNWE9b81n",
        "outputId": "b4af7e1d-52c4-4cb5-a5ee-0825db9dda85"
      },
      "execution_count": null,
      "outputs": [
        {
          "output_type": "execute_result",
          "data": {
            "text/plain": [
              "<IPython.core.display.SVG object>"
            ],
            "image/svg+xml": "<svg xmlns=\"http://www.w3.org/2000/svg\" xmlns:xlink=\"http://www.w3.org/1999/xlink\" width=\"303pt\" height=\"516pt\" viewBox=\"0.00 0.00 227.00 387.00\">\n<g id=\"graph0\" class=\"graph\" transform=\"scale(0.75 0.75) rotate(0) translate(4 383)\">\n<title>G</title>\n<polygon fill=\"white\" stroke=\"transparent\" points=\"-4,4 -4,-383 223,-383 223,4 -4,4\"/>\n<!-- 140543530900160 -->\n<g id=\"node1\" class=\"node\">\n<title>140543530900160</title>\n<polygon fill=\"none\" stroke=\"black\" points=\"0,-332.5 0,-378.5 219,-378.5 219,-332.5 0,-332.5\"/>\n<text text-anchor=\"middle\" x=\"39.5\" y=\"-363.3\" font-family=\"Times,serif\" font-size=\"14.00\">input_input</text>\n<polyline fill=\"none\" stroke=\"black\" points=\"0,-355.5 79,-355.5 \"/>\n<text text-anchor=\"middle\" x=\"39.5\" y=\"-340.3\" font-family=\"Times,serif\" font-size=\"14.00\">InputLayer</text>\n<polyline fill=\"none\" stroke=\"black\" points=\"79,-332.5 79,-378.5 \"/>\n<text text-anchor=\"middle\" x=\"106.5\" y=\"-363.3\" font-family=\"Times,serif\" font-size=\"14.00\">input:</text>\n<polyline fill=\"none\" stroke=\"black\" points=\"79,-355.5 134,-355.5 \"/>\n<text text-anchor=\"middle\" x=\"106.5\" y=\"-340.3\" font-family=\"Times,serif\" font-size=\"14.00\">output:</text>\n<polyline fill=\"none\" stroke=\"black\" points=\"134,-332.5 134,-378.5 \"/>\n<text text-anchor=\"middle\" x=\"176.5\" y=\"-363.3\" font-family=\"Times,serif\" font-size=\"14.00\">[(None, 60)]</text>\n<polyline fill=\"none\" stroke=\"black\" points=\"134,-355.5 219,-355.5 \"/>\n<text text-anchor=\"middle\" x=\"176.5\" y=\"-340.3\" font-family=\"Times,serif\" font-size=\"14.00\">[(None, 60)]</text>\n</g>\n<!-- 140543530901024 -->\n<g id=\"node2\" class=\"node\">\n<title>140543530901024</title>\n<polygon fill=\"none\" stroke=\"black\" points=\"19,-249.5 19,-295.5 200,-295.5 200,-249.5 19,-249.5\"/>\n<text text-anchor=\"middle\" x=\"44\" y=\"-280.3\" font-family=\"Times,serif\" font-size=\"14.00\">input</text>\n<polyline fill=\"none\" stroke=\"black\" points=\"19,-272.5 69,-272.5 \"/>\n<text text-anchor=\"middle\" x=\"44\" y=\"-257.3\" font-family=\"Times,serif\" font-size=\"14.00\">Dense</text>\n<polyline fill=\"none\" stroke=\"black\" points=\"69,-249.5 69,-295.5 \"/>\n<text text-anchor=\"middle\" x=\"96.5\" y=\"-280.3\" font-family=\"Times,serif\" font-size=\"14.00\">input:</text>\n<polyline fill=\"none\" stroke=\"black\" points=\"69,-272.5 124,-272.5 \"/>\n<text text-anchor=\"middle\" x=\"96.5\" y=\"-257.3\" font-family=\"Times,serif\" font-size=\"14.00\">output:</text>\n<polyline fill=\"none\" stroke=\"black\" points=\"124,-249.5 124,-295.5 \"/>\n<text text-anchor=\"middle\" x=\"162\" y=\"-280.3\" font-family=\"Times,serif\" font-size=\"14.00\">(None, 60)</text>\n<polyline fill=\"none\" stroke=\"black\" points=\"124,-272.5 200,-272.5 \"/>\n<text text-anchor=\"middle\" x=\"162\" y=\"-257.3\" font-family=\"Times,serif\" font-size=\"14.00\">(None, 16)</text>\n</g>\n<!-- 140543530900160&#45;&gt;140543530901024 -->\n<g id=\"edge1\" class=\"edge\">\n<title>140543530900160-&gt;140543530901024</title>\n<path fill=\"none\" stroke=\"black\" d=\"M109.5,-332.37C109.5,-324.15 109.5,-314.66 109.5,-305.73\"/>\n<polygon fill=\"black\" stroke=\"black\" points=\"113,-305.61 109.5,-295.61 106,-305.61 113,-305.61\"/>\n</g>\n<!-- 140543530899776 -->\n<g id=\"node3\" class=\"node\">\n<title>140543530899776</title>\n<polygon fill=\"none\" stroke=\"black\" points=\"10.5,-166.5 10.5,-212.5 208.5,-212.5 208.5,-166.5 10.5,-166.5\"/>\n<text text-anchor=\"middle\" x=\"44\" y=\"-197.3\" font-family=\"Times,serif\" font-size=\"14.00\">hidden_1</text>\n<polyline fill=\"none\" stroke=\"black\" points=\"10.5,-189.5 77.5,-189.5 \"/>\n<text text-anchor=\"middle\" x=\"44\" y=\"-174.3\" font-family=\"Times,serif\" font-size=\"14.00\">Dense</text>\n<polyline fill=\"none\" stroke=\"black\" points=\"77.5,-166.5 77.5,-212.5 \"/>\n<text text-anchor=\"middle\" x=\"105\" y=\"-197.3\" font-family=\"Times,serif\" font-size=\"14.00\">input:</text>\n<polyline fill=\"none\" stroke=\"black\" points=\"77.5,-189.5 132.5,-189.5 \"/>\n<text text-anchor=\"middle\" x=\"105\" y=\"-174.3\" font-family=\"Times,serif\" font-size=\"14.00\">output:</text>\n<polyline fill=\"none\" stroke=\"black\" points=\"132.5,-166.5 132.5,-212.5 \"/>\n<text text-anchor=\"middle\" x=\"170.5\" y=\"-197.3\" font-family=\"Times,serif\" font-size=\"14.00\">(None, 16)</text>\n<polyline fill=\"none\" stroke=\"black\" points=\"132.5,-189.5 208.5,-189.5 \"/>\n<text text-anchor=\"middle\" x=\"170.5\" y=\"-174.3\" font-family=\"Times,serif\" font-size=\"14.00\">(None, 32)</text>\n</g>\n<!-- 140543530901024&#45;&gt;140543530899776 -->\n<g id=\"edge2\" class=\"edge\">\n<title>140543530901024-&gt;140543530899776</title>\n<path fill=\"none\" stroke=\"black\" d=\"M109.5,-249.37C109.5,-241.15 109.5,-231.66 109.5,-222.73\"/>\n<polygon fill=\"black\" stroke=\"black\" points=\"113,-222.61 109.5,-212.61 106,-222.61 113,-222.61\"/>\n</g>\n<!-- 140543531079952 -->\n<g id=\"node4\" class=\"node\">\n<title>140543531079952</title>\n<polygon fill=\"none\" stroke=\"black\" points=\"10.5,-83.5 10.5,-129.5 208.5,-129.5 208.5,-83.5 10.5,-83.5\"/>\n<text text-anchor=\"middle\" x=\"44\" y=\"-114.3\" font-family=\"Times,serif\" font-size=\"14.00\">hidden_2</text>\n<polyline fill=\"none\" stroke=\"black\" points=\"10.5,-106.5 77.5,-106.5 \"/>\n<text text-anchor=\"middle\" x=\"44\" y=\"-91.3\" font-family=\"Times,serif\" font-size=\"14.00\">Dense</text>\n<polyline fill=\"none\" stroke=\"black\" points=\"77.5,-83.5 77.5,-129.5 \"/>\n<text text-anchor=\"middle\" x=\"105\" y=\"-114.3\" font-family=\"Times,serif\" font-size=\"14.00\">input:</text>\n<polyline fill=\"none\" stroke=\"black\" points=\"77.5,-106.5 132.5,-106.5 \"/>\n<text text-anchor=\"middle\" x=\"105\" y=\"-91.3\" font-family=\"Times,serif\" font-size=\"14.00\">output:</text>\n<polyline fill=\"none\" stroke=\"black\" points=\"132.5,-83.5 132.5,-129.5 \"/>\n<text text-anchor=\"middle\" x=\"170.5\" y=\"-114.3\" font-family=\"Times,serif\" font-size=\"14.00\">(None, 32)</text>\n<polyline fill=\"none\" stroke=\"black\" points=\"132.5,-106.5 208.5,-106.5 \"/>\n<text text-anchor=\"middle\" x=\"170.5\" y=\"-91.3\" font-family=\"Times,serif\" font-size=\"14.00\">(None, 64)</text>\n</g>\n<!-- 140543530899776&#45;&gt;140543531079952 -->\n<g id=\"edge3\" class=\"edge\">\n<title>140543530899776-&gt;140543531079952</title>\n<path fill=\"none\" stroke=\"black\" d=\"M109.5,-166.37C109.5,-158.15 109.5,-148.66 109.5,-139.73\"/>\n<polygon fill=\"black\" stroke=\"black\" points=\"113,-139.61 109.5,-129.61 106,-139.61 113,-139.61\"/>\n</g>\n<!-- 140543528525152 -->\n<g id=\"node5\" class=\"node\">\n<title>140543528525152</title>\n<polygon fill=\"none\" stroke=\"black\" points=\"18.5,-0.5 18.5,-46.5 200.5,-46.5 200.5,-0.5 18.5,-0.5\"/>\n<text text-anchor=\"middle\" x=\"44\" y=\"-31.3\" font-family=\"Times,serif\" font-size=\"14.00\">output</text>\n<polyline fill=\"none\" stroke=\"black\" points=\"18.5,-23.5 69.5,-23.5 \"/>\n<text text-anchor=\"middle\" x=\"44\" y=\"-8.3\" font-family=\"Times,serif\" font-size=\"14.00\">Dense</text>\n<polyline fill=\"none\" stroke=\"black\" points=\"69.5,-0.5 69.5,-46.5 \"/>\n<text text-anchor=\"middle\" x=\"97\" y=\"-31.3\" font-family=\"Times,serif\" font-size=\"14.00\">input:</text>\n<polyline fill=\"none\" stroke=\"black\" points=\"69.5,-23.5 124.5,-23.5 \"/>\n<text text-anchor=\"middle\" x=\"97\" y=\"-8.3\" font-family=\"Times,serif\" font-size=\"14.00\">output:</text>\n<polyline fill=\"none\" stroke=\"black\" points=\"124.5,-0.5 124.5,-46.5 \"/>\n<text text-anchor=\"middle\" x=\"162.5\" y=\"-31.3\" font-family=\"Times,serif\" font-size=\"14.00\">(None, 64)</text>\n<polyline fill=\"none\" stroke=\"black\" points=\"124.5,-23.5 200.5,-23.5 \"/>\n<text text-anchor=\"middle\" x=\"162.5\" y=\"-8.3\" font-family=\"Times,serif\" font-size=\"14.00\">(None, 1)</text>\n</g>\n<!-- 140543531079952&#45;&gt;140543528525152 -->\n<g id=\"edge4\" class=\"edge\">\n<title>140543531079952-&gt;140543528525152</title>\n<path fill=\"none\" stroke=\"black\" d=\"M109.5,-83.37C109.5,-75.15 109.5,-65.66 109.5,-56.73\"/>\n<polygon fill=\"black\" stroke=\"black\" points=\"113,-56.61 109.5,-46.61 106,-56.61 113,-56.61\"/>\n</g>\n</g>\n</svg>"
          },
          "metadata": {},
          "execution_count": 90
        }
      ]
    }
  ]
}